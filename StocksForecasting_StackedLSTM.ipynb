{
  "cells": [
    {
      "cell_type": "markdown",
      "metadata": {
        "id": "XauVuCP-ifeB"
      },
      "source": [
        "### Name: Stocks Forecasting Using Stacked LSTM models:"
      ]
    },
    {
      "cell_type": "code",
      "execution_count": 1,
      "metadata": {
        "id": "OdycWG4Mh_yV"
      },
      "outputs": [],
      "source": [
        "!pip install pandas_datareader --q"
      ]
    },
    {
      "cell_type": "markdown",
      "metadata": {
        "id": "9oyvSVqqjlo3"
      },
      "source": [
        "- pandas datareader will be used to collect the data of stocks."
      ]
    },
    {
      "cell_type": "code",
      "execution_count": 2,
      "metadata": {
        "id": "DYnSP7AWjxG4"
      },
      "outputs": [],
      "source": [
        "import pandas_datareader as pdr"
      ]
    },
    {
      "cell_type": "code",
      "execution_count": 3,
      "metadata": {
        "id": "iNyLGBXBmZEk"
      },
      "outputs": [],
      "source": [
        "#Saving the API key\n",
        "key = '<enter your API KEY>'"
      ]
    },
    {
      "cell_type": "code",
      "execution_count": 4,
      "metadata": {
        "colab": {
          "base_uri": "https://localhost:8080/"
        },
        "id": "EhsBT_rCjZPg",
        "outputId": "0dc3f6c7-4642-45b8-c5b5-5cdd7b9934d2"
      },
      "outputs": [
        {
          "name": "stderr",
          "output_type": "stream",
          "text": [
            "<ipython-input-4-5c2a68b54e44>:3: FutureWarning: In a future version of pandas all arguments of concat except for the argument 'objs' will be keyword-only.\n",
            "  stock_df = pdr.get_data_tiingo('AAPL', api_key = key)\n"
          ]
        }
      ],
      "source": [
        "### Collecting Data about the Stocks:\n",
        "\n",
        "stock_df = pdr.get_data_tiingo('AAPL', api_key = key)"
      ]
    },
    {
      "cell_type": "code",
      "execution_count": 5,
      "metadata": {
        "colab": {
          "base_uri": "https://localhost:8080/",
          "height": 672
        },
        "id": "YJ87AzhFmH-U",
        "outputId": "36fb2dc2-425d-49fc-8b96-4a86bff7447b"
      },
      "outputs": [
        {
          "data": {
            "text/html": [
              "\n",
              "  <div id=\"df-0e2452be-ba69-4455-a64a-b163dcb823fd\">\n",
              "    <div class=\"colab-df-container\">\n",
              "      <div>\n",
              "<style scoped>\n",
              "    .dataframe tbody tr th:only-of-type {\n",
              "        vertical-align: middle;\n",
              "    }\n",
              "\n",
              "    .dataframe tbody tr th {\n",
              "        vertical-align: top;\n",
              "    }\n",
              "\n",
              "    .dataframe thead th {\n",
              "        text-align: right;\n",
              "    }\n",
              "</style>\n",
              "<table border=\"1\" class=\"dataframe\">\n",
              "  <thead>\n",
              "    <tr style=\"text-align: right;\">\n",
              "      <th></th>\n",
              "      <th></th>\n",
              "      <th>close</th>\n",
              "      <th>high</th>\n",
              "      <th>low</th>\n",
              "      <th>open</th>\n",
              "      <th>volume</th>\n",
              "      <th>adjClose</th>\n",
              "      <th>adjHigh</th>\n",
              "      <th>adjLow</th>\n",
              "      <th>adjOpen</th>\n",
              "      <th>adjVolume</th>\n",
              "      <th>divCash</th>\n",
              "      <th>splitFactor</th>\n",
              "    </tr>\n",
              "    <tr>\n",
              "      <th>symbol</th>\n",
              "      <th>date</th>\n",
              "      <th></th>\n",
              "      <th></th>\n",
              "      <th></th>\n",
              "      <th></th>\n",
              "      <th></th>\n",
              "      <th></th>\n",
              "      <th></th>\n",
              "      <th></th>\n",
              "      <th></th>\n",
              "      <th></th>\n",
              "      <th></th>\n",
              "      <th></th>\n",
              "    </tr>\n",
              "  </thead>\n",
              "  <tbody>\n",
              "    <tr>\n",
              "      <th rowspan=\"11\" valign=\"top\">AAPL</th>\n",
              "      <th>2018-05-08 00:00:00+00:00</th>\n",
              "      <td>186.05</td>\n",
              "      <td>186.22</td>\n",
              "      <td>183.67</td>\n",
              "      <td>184.990</td>\n",
              "      <td>28402777</td>\n",
              "      <td>44.337294</td>\n",
              "      <td>44.377806</td>\n",
              "      <td>43.770120</td>\n",
              "      <td>44.084687</td>\n",
              "      <td>113611108</td>\n",
              "      <td>0.00</td>\n",
              "      <td>1.0</td>\n",
              "    </tr>\n",
              "    <tr>\n",
              "      <th>2018-05-09 00:00:00+00:00</th>\n",
              "      <td>187.36</td>\n",
              "      <td>187.40</td>\n",
              "      <td>185.22</td>\n",
              "      <td>186.550</td>\n",
              "      <td>23211241</td>\n",
              "      <td>44.649478</td>\n",
              "      <td>44.659010</td>\n",
              "      <td>44.139498</td>\n",
              "      <td>44.456448</td>\n",
              "      <td>92844964</td>\n",
              "      <td>0.00</td>\n",
              "      <td>1.0</td>\n",
              "    </tr>\n",
              "    <tr>\n",
              "      <th>2018-05-10 00:00:00+00:00</th>\n",
              "      <td>190.04</td>\n",
              "      <td>190.37</td>\n",
              "      <td>187.65</td>\n",
              "      <td>187.740</td>\n",
              "      <td>27989289</td>\n",
              "      <td>45.288145</td>\n",
              "      <td>45.366787</td>\n",
              "      <td>44.718588</td>\n",
              "      <td>44.740035</td>\n",
              "      <td>111957156</td>\n",
              "      <td>0.00</td>\n",
              "      <td>1.0</td>\n",
              "    </tr>\n",
              "    <tr>\n",
              "      <th>2018-05-11 00:00:00+00:00</th>\n",
              "      <td>188.59</td>\n",
              "      <td>190.06</td>\n",
              "      <td>187.45</td>\n",
              "      <td>189.490</td>\n",
              "      <td>26212221</td>\n",
              "      <td>45.116563</td>\n",
              "      <td>45.468232</td>\n",
              "      <td>44.843839</td>\n",
              "      <td>45.331871</td>\n",
              "      <td>104848884</td>\n",
              "      <td>0.73</td>\n",
              "      <td>1.0</td>\n",
              "    </tr>\n",
              "    <tr>\n",
              "      <th>2018-05-14 00:00:00+00:00</th>\n",
              "      <td>188.15</td>\n",
              "      <td>189.53</td>\n",
              "      <td>187.86</td>\n",
              "      <td>189.010</td>\n",
              "      <td>20778772</td>\n",
              "      <td>45.011301</td>\n",
              "      <td>45.341440</td>\n",
              "      <td>44.941924</td>\n",
              "      <td>45.217040</td>\n",
              "      <td>83115088</td>\n",
              "      <td>0.00</td>\n",
              "      <td>1.0</td>\n",
              "    </tr>\n",
              "    <tr>\n",
              "      <th>...</th>\n",
              "      <td>...</td>\n",
              "      <td>...</td>\n",
              "      <td>...</td>\n",
              "      <td>...</td>\n",
              "      <td>...</td>\n",
              "      <td>...</td>\n",
              "      <td>...</td>\n",
              "      <td>...</td>\n",
              "      <td>...</td>\n",
              "      <td>...</td>\n",
              "      <td>...</td>\n",
              "      <td>...</td>\n",
              "    </tr>\n",
              "    <tr>\n",
              "      <th>2023-05-01 00:00:00+00:00</th>\n",
              "      <td>169.59</td>\n",
              "      <td>170.45</td>\n",
              "      <td>168.64</td>\n",
              "      <td>169.280</td>\n",
              "      <td>52472936</td>\n",
              "      <td>169.590000</td>\n",
              "      <td>170.450000</td>\n",
              "      <td>168.640000</td>\n",
              "      <td>169.280000</td>\n",
              "      <td>52472936</td>\n",
              "      <td>0.00</td>\n",
              "      <td>1.0</td>\n",
              "    </tr>\n",
              "    <tr>\n",
              "      <th>2023-05-02 00:00:00+00:00</th>\n",
              "      <td>168.54</td>\n",
              "      <td>170.35</td>\n",
              "      <td>167.54</td>\n",
              "      <td>170.090</td>\n",
              "      <td>48425696</td>\n",
              "      <td>168.540000</td>\n",
              "      <td>170.350000</td>\n",
              "      <td>167.540000</td>\n",
              "      <td>170.090000</td>\n",
              "      <td>48425696</td>\n",
              "      <td>0.00</td>\n",
              "      <td>1.0</td>\n",
              "    </tr>\n",
              "    <tr>\n",
              "      <th>2023-05-03 00:00:00+00:00</th>\n",
              "      <td>167.45</td>\n",
              "      <td>170.92</td>\n",
              "      <td>167.16</td>\n",
              "      <td>169.500</td>\n",
              "      <td>65136018</td>\n",
              "      <td>167.450000</td>\n",
              "      <td>170.920000</td>\n",
              "      <td>167.160000</td>\n",
              "      <td>169.500000</td>\n",
              "      <td>65136018</td>\n",
              "      <td>0.00</td>\n",
              "      <td>1.0</td>\n",
              "    </tr>\n",
              "    <tr>\n",
              "      <th>2023-05-04 00:00:00+00:00</th>\n",
              "      <td>165.79</td>\n",
              "      <td>167.04</td>\n",
              "      <td>164.31</td>\n",
              "      <td>164.890</td>\n",
              "      <td>81235427</td>\n",
              "      <td>165.790000</td>\n",
              "      <td>167.040000</td>\n",
              "      <td>164.310000</td>\n",
              "      <td>164.890000</td>\n",
              "      <td>81235427</td>\n",
              "      <td>0.00</td>\n",
              "      <td>1.0</td>\n",
              "    </tr>\n",
              "    <tr>\n",
              "      <th>2023-05-05 00:00:00+00:00</th>\n",
              "      <td>173.57</td>\n",
              "      <td>174.30</td>\n",
              "      <td>170.76</td>\n",
              "      <td>170.975</td>\n",
              "      <td>113453171</td>\n",
              "      <td>173.570000</td>\n",
              "      <td>174.300000</td>\n",
              "      <td>170.760000</td>\n",
              "      <td>170.975000</td>\n",
              "      <td>113453171</td>\n",
              "      <td>0.00</td>\n",
              "      <td>1.0</td>\n",
              "    </tr>\n",
              "  </tbody>\n",
              "</table>\n",
              "<p>1258 rows × 12 columns</p>\n",
              "</div>\n",
              "      <button class=\"colab-df-convert\" onclick=\"convertToInteractive('df-0e2452be-ba69-4455-a64a-b163dcb823fd')\"\n",
              "              title=\"Convert this dataframe to an interactive table.\"\n",
              "              style=\"display:none;\">\n",
              "        \n",
              "  <svg xmlns=\"http://www.w3.org/2000/svg\" height=\"24px\"viewBox=\"0 0 24 24\"\n",
              "       width=\"24px\">\n",
              "    <path d=\"M0 0h24v24H0V0z\" fill=\"none\"/>\n",
              "    <path d=\"M18.56 5.44l.94 2.06.94-2.06 2.06-.94-2.06-.94-.94-2.06-.94 2.06-2.06.94zm-11 1L8.5 8.5l.94-2.06 2.06-.94-2.06-.94L8.5 2.5l-.94 2.06-2.06.94zm10 10l.94 2.06.94-2.06 2.06-.94-2.06-.94-.94-2.06-.94 2.06-2.06.94z\"/><path d=\"M17.41 7.96l-1.37-1.37c-.4-.4-.92-.59-1.43-.59-.52 0-1.04.2-1.43.59L10.3 9.45l-7.72 7.72c-.78.78-.78 2.05 0 2.83L4 21.41c.39.39.9.59 1.41.59.51 0 1.02-.2 1.41-.59l7.78-7.78 2.81-2.81c.8-.78.8-2.07 0-2.86zM5.41 20L4 18.59l7.72-7.72 1.47 1.35L5.41 20z\"/>\n",
              "  </svg>\n",
              "      </button>\n",
              "      \n",
              "  <style>\n",
              "    .colab-df-container {\n",
              "      display:flex;\n",
              "      flex-wrap:wrap;\n",
              "      gap: 12px;\n",
              "    }\n",
              "\n",
              "    .colab-df-convert {\n",
              "      background-color: #E8F0FE;\n",
              "      border: none;\n",
              "      border-radius: 50%;\n",
              "      cursor: pointer;\n",
              "      display: none;\n",
              "      fill: #1967D2;\n",
              "      height: 32px;\n",
              "      padding: 0 0 0 0;\n",
              "      width: 32px;\n",
              "    }\n",
              "\n",
              "    .colab-df-convert:hover {\n",
              "      background-color: #E2EBFA;\n",
              "      box-shadow: 0px 1px 2px rgba(60, 64, 67, 0.3), 0px 1px 3px 1px rgba(60, 64, 67, 0.15);\n",
              "      fill: #174EA6;\n",
              "    }\n",
              "\n",
              "    [theme=dark] .colab-df-convert {\n",
              "      background-color: #3B4455;\n",
              "      fill: #D2E3FC;\n",
              "    }\n",
              "\n",
              "    [theme=dark] .colab-df-convert:hover {\n",
              "      background-color: #434B5C;\n",
              "      box-shadow: 0px 1px 3px 1px rgba(0, 0, 0, 0.15);\n",
              "      filter: drop-shadow(0px 1px 2px rgba(0, 0, 0, 0.3));\n",
              "      fill: #FFFFFF;\n",
              "    }\n",
              "  </style>\n",
              "\n",
              "      <script>\n",
              "        const buttonEl =\n",
              "          document.querySelector('#df-0e2452be-ba69-4455-a64a-b163dcb823fd button.colab-df-convert');\n",
              "        buttonEl.style.display =\n",
              "          google.colab.kernel.accessAllowed ? 'block' : 'none';\n",
              "\n",
              "        async function convertToInteractive(key) {\n",
              "          const element = document.querySelector('#df-0e2452be-ba69-4455-a64a-b163dcb823fd');\n",
              "          const dataTable =\n",
              "            await google.colab.kernel.invokeFunction('convertToInteractive',\n",
              "                                                     [key], {});\n",
              "          if (!dataTable) return;\n",
              "\n",
              "          const docLinkHtml = 'Like what you see? Visit the ' +\n",
              "            '<a target=\"_blank\" href=https://colab.research.google.com/notebooks/data_table.ipynb>data table notebook</a>'\n",
              "            + ' to learn more about interactive tables.';\n",
              "          element.innerHTML = '';\n",
              "          dataTable['output_type'] = 'display_data';\n",
              "          await google.colab.output.renderOutput(dataTable, element);\n",
              "          const docLink = document.createElement('div');\n",
              "          docLink.innerHTML = docLinkHtml;\n",
              "          element.appendChild(docLink);\n",
              "        }\n",
              "      </script>\n",
              "    </div>\n",
              "  </div>\n",
              "  "
            ],
            "text/plain": [
              "                                   close    high     low     open     volume  \\\n",
              "symbol date                                                                    \n",
              "AAPL   2018-05-08 00:00:00+00:00  186.05  186.22  183.67  184.990   28402777   \n",
              "       2018-05-09 00:00:00+00:00  187.36  187.40  185.22  186.550   23211241   \n",
              "       2018-05-10 00:00:00+00:00  190.04  190.37  187.65  187.740   27989289   \n",
              "       2018-05-11 00:00:00+00:00  188.59  190.06  187.45  189.490   26212221   \n",
              "       2018-05-14 00:00:00+00:00  188.15  189.53  187.86  189.010   20778772   \n",
              "...                                  ...     ...     ...      ...        ...   \n",
              "       2023-05-01 00:00:00+00:00  169.59  170.45  168.64  169.280   52472936   \n",
              "       2023-05-02 00:00:00+00:00  168.54  170.35  167.54  170.090   48425696   \n",
              "       2023-05-03 00:00:00+00:00  167.45  170.92  167.16  169.500   65136018   \n",
              "       2023-05-04 00:00:00+00:00  165.79  167.04  164.31  164.890   81235427   \n",
              "       2023-05-05 00:00:00+00:00  173.57  174.30  170.76  170.975  113453171   \n",
              "\n",
              "                                    adjClose     adjHigh      adjLow  \\\n",
              "symbol date                                                            \n",
              "AAPL   2018-05-08 00:00:00+00:00   44.337294   44.377806   43.770120   \n",
              "       2018-05-09 00:00:00+00:00   44.649478   44.659010   44.139498   \n",
              "       2018-05-10 00:00:00+00:00   45.288145   45.366787   44.718588   \n",
              "       2018-05-11 00:00:00+00:00   45.116563   45.468232   44.843839   \n",
              "       2018-05-14 00:00:00+00:00   45.011301   45.341440   44.941924   \n",
              "...                                      ...         ...         ...   \n",
              "       2023-05-01 00:00:00+00:00  169.590000  170.450000  168.640000   \n",
              "       2023-05-02 00:00:00+00:00  168.540000  170.350000  167.540000   \n",
              "       2023-05-03 00:00:00+00:00  167.450000  170.920000  167.160000   \n",
              "       2023-05-04 00:00:00+00:00  165.790000  167.040000  164.310000   \n",
              "       2023-05-05 00:00:00+00:00  173.570000  174.300000  170.760000   \n",
              "\n",
              "                                     adjOpen  adjVolume  divCash  splitFactor  \n",
              "symbol date                                                                    \n",
              "AAPL   2018-05-08 00:00:00+00:00   44.084687  113611108     0.00          1.0  \n",
              "       2018-05-09 00:00:00+00:00   44.456448   92844964     0.00          1.0  \n",
              "       2018-05-10 00:00:00+00:00   44.740035  111957156     0.00          1.0  \n",
              "       2018-05-11 00:00:00+00:00   45.331871  104848884     0.73          1.0  \n",
              "       2018-05-14 00:00:00+00:00   45.217040   83115088     0.00          1.0  \n",
              "...                                      ...        ...      ...          ...  \n",
              "       2023-05-01 00:00:00+00:00  169.280000   52472936     0.00          1.0  \n",
              "       2023-05-02 00:00:00+00:00  170.090000   48425696     0.00          1.0  \n",
              "       2023-05-03 00:00:00+00:00  169.500000   65136018     0.00          1.0  \n",
              "       2023-05-04 00:00:00+00:00  164.890000   81235427     0.00          1.0  \n",
              "       2023-05-05 00:00:00+00:00  170.975000  113453171     0.00          1.0  \n",
              "\n",
              "[1258 rows x 12 columns]"
            ]
          },
          "execution_count": 5,
          "metadata": {},
          "output_type": "execute_result"
        }
      ],
      "source": [
        "stock_df"
      ]
    },
    {
      "cell_type": "markdown",
      "metadata": {
        "id": "khpuSsA4mw3s"
      },
      "source": [
        "**Inference** : <br>\n",
        "- We have received the data from 1-05-2018 to 28-04-2023"
      ]
    },
    {
      "cell_type": "code",
      "execution_count": 6,
      "metadata": {
        "id": "6xiy--HbXTva"
      },
      "outputs": [],
      "source": [
        "stock_df.to_csv('Apple_Stocks_Data.csv')"
      ]
    },
    {
      "cell_type": "markdown",
      "metadata": {
        "id": "tLq9HO8DnRU3"
      },
      "source": [
        "### Performing The predictions On the CLOSE PRICES:"
      ]
    },
    {
      "cell_type": "code",
      "execution_count": 7,
      "metadata": {
        "id": "NzcQMFcJmnbr"
      },
      "outputs": [],
      "source": [
        "df = stock_df.reset_index()['close']"
      ]
    },
    {
      "cell_type": "code",
      "execution_count": 8,
      "metadata": {
        "colab": {
          "base_uri": "https://localhost:8080/"
        },
        "id": "zazuwmDOnb9L",
        "outputId": "4e915d25-3764-4e8f-90e5-caa6c9f80991"
      },
      "outputs": [
        {
          "data": {
            "text/plain": [
              "0    186.05\n",
              "1    187.36\n",
              "2    190.04\n",
              "3    188.59\n",
              "4    188.15\n",
              "5    186.44\n",
              "6    188.18\n",
              "7    186.99\n",
              "8    186.31\n",
              "9    187.63\n",
              "Name: close, dtype: float64"
            ]
          },
          "execution_count": 8,
          "metadata": {},
          "output_type": "execute_result"
        }
      ],
      "source": [
        "df.head(10)"
      ]
    },
    {
      "cell_type": "code",
      "execution_count": 9,
      "metadata": {
        "colab": {
          "base_uri": "https://localhost:8080/"
        },
        "id": "wJhjIWLendiL",
        "outputId": "d45016d5-80cb-43db-c887-de2834165599"
      },
      "outputs": [
        {
          "data": {
            "text/plain": [
              "(1258,)"
            ]
          },
          "execution_count": 9,
          "metadata": {},
          "output_type": "execute_result"
        }
      ],
      "source": [
        "df.shape"
      ]
    },
    {
      "cell_type": "markdown",
      "metadata": {
        "id": "kATLIABRnplG"
      },
      "source": [
        "- Plotting the chart of close price:"
      ]
    },
    {
      "cell_type": "code",
      "execution_count": 10,
      "metadata": {
        "id": "Dp3Q2ym6ngXr"
      },
      "outputs": [],
      "source": [
        "import matplotlib.pyplot as plt\n",
        "%matplotlib inline"
      ]
    },
    {
      "cell_type": "code",
      "execution_count": 11,
      "metadata": {
        "colab": {
          "base_uri": "https://localhost:8080/",
          "height": 430
        },
        "id": "pUlEBfx-nvmq",
        "outputId": "3ab8a399-4eb0-46c4-f9b0-d71381057d5d"
      },
      "outputs": [
        {
          "data": {
            "image/png": "[encoded data removed]",
            "text/plain": [
              "<Figure size 640x480 with 1 Axes>"
            ]
          },
          "metadata": {},
          "output_type": "display_data"
        }
      ],
      "source": [
        "plt.plot(df)\n",
        "plt.show()"
      ]
    },
    {
      "cell_type": "markdown",
      "metadata": {
        "id": "gtjqyX48odMi"
      },
      "source": [
        "## Data Preprocessing:"
      ]
    },
    {
      "cell_type": "markdown",
      "metadata": {
        "id": "UPJgHqa8ogJX"
      },
      "source": [
        "- LSTM is very sensitive to the scale of data, so for that we have to apply MinMax Scaler on the dataframe:"
      ]
    },
    {
      "cell_type": "code",
      "execution_count": 12,
      "metadata": {
        "id": "i2sTgb6YoEjI"
      },
      "outputs": [],
      "source": [
        "from sklearn.preprocessing import MinMaxScaler"
      ]
    },
    {
      "cell_type": "code",
      "execution_count": 13,
      "metadata": {
        "id": "H3W_7hYupzOr"
      },
      "outputs": [],
      "source": [
        "import numpy as np"
      ]
    },
    {
      "cell_type": "code",
      "execution_count": 14,
      "metadata": {
        "id": "HdStX3Z3otyR"
      },
      "outputs": [],
      "source": [
        "ms = MinMaxScaler(feature_range=(0, 1))\n",
        "df = ms.fit_transform(np.array(df).reshape(-1, 1))"
      ]
    },
    {
      "cell_type": "code",
      "execution_count": 15,
      "metadata": {
        "colab": {
          "base_uri": "https://localhost:8080/"
        },
        "id": "KBITPGEup1lZ",
        "outputId": "daf03b07-1050-4300-bc66-b8807e79df4a"
      },
      "outputs": [
        {
          "data": {
            "text/plain": [
              "array([[0.19839699],\n",
              "       [0.20167815],\n",
              "       [0.20839073],\n",
              "       ...,\n",
              "       [0.15180964],\n",
              "       [0.14765185],\n",
              "       [0.16713838]])"
            ]
          },
          "execution_count": 15,
          "metadata": {},
          "output_type": "execute_result"
        }
      ],
      "source": [
        "df"
      ]
    },
    {
      "cell_type": "markdown",
      "metadata": {
        "id": "K9NArWXUttzE"
      },
      "source": [
        "### Splitting the dataset into Train and Test Size:"
      ]
    },
    {
      "cell_type": "code",
      "execution_count": 16,
      "metadata": {
        "id": "CALc3pLNttHY"
      },
      "outputs": [],
      "source": [
        "train_size = int(len(df)*.70)\n",
        "test_size = len(df)-train_size\n",
        "\n",
        "#Splitting the dataset into 70% training data and 30% training data\n",
        "\n",
        "train_data, test_data = df[0:train_size, :], df[train_size:len(df), :1]"
      ]
    },
    {
      "cell_type": "code",
      "execution_count": 17,
      "metadata": {
        "colab": {
          "base_uri": "https://localhost:8080/"
        },
        "id": "KRCj8mxGvQg6",
        "outputId": "4d805900-8329-4345-a131-eb5a7f3768cf"
      },
      "outputs": [
        {
          "data": {
            "text/plain": [
              "(880, 378)"
            ]
          },
          "execution_count": 17,
          "metadata": {},
          "output_type": "execute_result"
        }
      ],
      "source": [
        "train_size, test_size"
      ]
    },
    {
      "cell_type": "code",
      "execution_count": 18,
      "metadata": {
        "colab": {
          "base_uri": "https://localhost:8080/"
        },
        "id": "gjn46MTevWr8",
        "outputId": "583848cc-aea9-45f0-dfcd-aa36c0406853"
      },
      "outputs": [
        {
          "data": {
            "text/plain": [
              "880"
            ]
          },
          "execution_count": 18,
          "metadata": {},
          "output_type": "execute_result"
        }
      ],
      "source": [
        "len(train_data)"
      ]
    },
    {
      "cell_type": "code",
      "execution_count": 19,
      "metadata": {
        "colab": {
          "base_uri": "https://localhost:8080/"
        },
        "id": "ldHTxPSovZCA",
        "outputId": "1ccae8dd-cd51-48cd-92cc-d6cb8be62c35"
      },
      "outputs": [
        {
          "data": {
            "text/plain": [
              "378"
            ]
          },
          "execution_count": 19,
          "metadata": {},
          "output_type": "execute_result"
        }
      ],
      "source": [
        "len(test_data)"
      ]
    },
    {
      "cell_type": "markdown",
      "metadata": {
        "id": "oVinFgQ-Yf0t"
      },
      "source": [
        "- Preprocessing the Training and Testing Data using Timesteps:"
      ]
    },
    {
      "cell_type": "code",
      "execution_count": 20,
      "metadata": {
        "id": "N3MlACjUvfRY"
      },
      "outputs": [],
      "source": [
        "import numpy as np\n",
        "#Creating a helper function to preprocess the data into independent and dependent features:\n",
        "def create_dataset(dataset, time_step):\n",
        "  data_x, data_y = [], [] #x-> will contain the input preprocessed features, y -> contain the testing or the output features\n",
        "\n",
        "  #Slicing and Splitting of the Data(Features):\n",
        "  for i in range(len(dataset) - time_step - 1):\n",
        "    a = dataset[i : (i+time_step), 0]  #Slicing all the Input Features:\n",
        "    data_x.append(a)\n",
        "\n",
        "\n",
        "    data_y.append(dataset[i+time_step, 0])\n",
        "\n",
        "  return np.array(data_x), np.array(data_y)\n",
        "\n"
      ]
    },
    {
      "cell_type": "code",
      "execution_count": 21,
      "metadata": {
        "colab": {
          "base_uri": "https://localhost:8080/"
        },
        "id": "XAd2iW0ganW_",
        "outputId": "89ecdfce-d63f-4f5c-d142-089474e73268"
      },
      "outputs": [
        {
          "name": "stdout",
          "output_type": "stream",
          "text": [
            "(779, 100)\n",
            "(779,)\n"
          ]
        }
      ],
      "source": [
        "time_step=100\n",
        "\n",
        "X_train, y_train = create_dataset(train_data, time_step)\n",
        "X_test, y_test = create_dataset(test_data, time_step)\n",
        "\n",
        "\n",
        "print(X_train.shape)\n",
        "print(y_train.shape)"
      ]
    },
    {
      "cell_type": "code",
      "execution_count": 22,
      "metadata": {
        "colab": {
          "base_uri": "https://localhost:8080/"
        },
        "id": "3sMe066Ma7J9",
        "outputId": "49b94c19-0bfb-4000-ba8b-6b890285d73c"
      },
      "outputs": [
        {
          "name": "stdout",
          "output_type": "stream",
          "text": [
            "(277, 100)\n",
            "(277,)\n"
          ]
        }
      ],
      "source": [
        "print(X_test.shape)\n",
        "print(y_test.shape)"
      ]
    },
    {
      "cell_type": "markdown",
      "metadata": {
        "id": "M6B8T2RVnkz-"
      },
      "source": [
        "### Model Creation == Stacked LSTM:"
      ]
    },
    {
      "cell_type": "code",
      "execution_count": 23,
      "metadata": {
        "id": "os33f0TMcYhE"
      },
      "outputs": [],
      "source": [
        "\n",
        "#Before we create the stacked lstm model, we need to convert our data into a 3 dim matrix\n",
        "#the 3-dim would be [samples, time_steps, features]\n",
        "\n",
        "\n",
        "X_train = X_train.reshape(X_train.shape[0], X_train.shape[1], 1)\n",
        "X_test = X_test.reshape(X_test.shape[0], X_test.shape[1], 1)"
      ]
    },
    {
      "cell_type": "markdown",
      "metadata": {
        "id": "ccZAs1ULoEEb"
      },
      "source": [
        "- Creating the model:"
      ]
    },
    {
      "cell_type": "code",
      "execution_count": 24,
      "metadata": {
        "colab": {
          "base_uri": "https://localhost:8080/"
        },
        "id": "WcNZSiBZoDEz",
        "outputId": "a1a57677-8e3a-4f7c-9a91-354df1e25e11"
      },
      "outputs": [
        {
          "name": "stdout",
          "output_type": "stream",
          "text": [
            "2.12.0\n"
          ]
        }
      ],
      "source": [
        "import tensorflow as tf\n",
        "print(tf.__version__)"
      ]
    },
    {
      "cell_type": "code",
      "execution_count": 25,
      "metadata": {
        "id": "A-8Mkgr7opcU"
      },
      "outputs": [],
      "source": [
        "from keras.models import Sequential\n",
        "from keras.layers import Dense\n",
        "from keras.layers import LSTM \n",
        "from keras.layers import Dropout"
      ]
    },
    {
      "cell_type": "code",
      "execution_count": 26,
      "metadata": {
        "id": "aP_kydgDo4FU"
      },
      "outputs": [],
      "source": [
        "model = Sequential()\n",
        "model.add(LSTM(100, return_sequences=True, input_shape=(X_train.shape[1],1))) #the value passed will be (100, 1) as it is fixed for the both X_train and X_test\n",
        "model.add(LSTM(100, return_sequences=True))\n",
        "model.add(LSTM(100))\n",
        "model.add(Dense(1))\n",
        "model.compile(loss='mean_squared_error', optimizer='adam')"
      ]
    },
    {
      "cell_type": "code",
      "execution_count": 27,
      "metadata": {
        "colab": {
          "base_uri": "https://localhost:8080/"
        },
        "id": "5p4njQC3r7ig",
        "outputId": "5b9553ea-ee56-4a4f-a141-abc6264678e9"
      },
      "outputs": [
        {
          "name": "stdout",
          "output_type": "stream",
          "text": [
            "Model: \"sequential\"\n",
            "_________________________________________________________________\n",
            " Layer (type)                Output Shape              Param #   \n",
            "=================================================================\n",
            " lstm (LSTM)                 (None, 100, 100)          40800     \n",
            "                                                                 \n",
            " lstm_1 (LSTM)               (None, 100, 100)          80400     \n",
            "                                                                 \n",
            " lstm_2 (LSTM)               (None, 100)               80400     \n",
            "                                                                 \n",
            " dense (Dense)               (None, 1)                 101       \n",
            "                                                                 \n",
            "=================================================================\n",
            "Total params: 201,701\n",
            "Trainable params: 201,701\n",
            "Non-trainable params: 0\n",
            "_________________________________________________________________\n"
          ]
        }
      ],
      "source": [
        "model.summary()"
      ]
    },
    {
      "cell_type": "markdown",
      "metadata": {
        "id": "bslabgKhhq29"
      },
      "source": [
        "- Fitting the model to the training data:"
      ]
    },
    {
      "cell_type": "code",
      "execution_count": 28,
      "metadata": {
        "colab": {
          "base_uri": "https://localhost:8080/"
        },
        "id": "wy_wjKGlr-wF",
        "outputId": "24373a46-0a2e-455f-e9c3-8091e76fe1b4"
      },
      "outputs": [
        {
          "name": "stdout",
          "output_type": "stream",
          "text": [
            "Epoch 1/100\n",
            "13/13 [==============================] - 20s 150ms/step - loss: 0.0263 - val_loss: 0.0047\n",
            "Epoch 2/100\n",
            "13/13 [==============================] - 0s 21ms/step - loss: 0.0116 - val_loss: 0.0013\n",
            "Epoch 3/100\n",
            "13/13 [==============================] - 0s 21ms/step - loss: 0.0080 - val_loss: 0.0010\n",
            "Epoch 4/100\n",
            "13/13 [==============================] - 0s 18ms/step - loss: 0.0066 - val_loss: 4.6856e-04\n",
            "Epoch 5/100\n",
            "13/13 [==============================] - 0s 18ms/step - loss: 0.0059 - val_loss: 5.8958e-04\n",
            "Epoch 6/100\n",
            "13/13 [==============================] - 0s 19ms/step - loss: 0.0106 - val_loss: 3.3930e-04\n",
            "Epoch 7/100\n",
            "13/13 [==============================] - 0s 19ms/step - loss: 0.0066 - val_loss: 3.3738e-04\n",
            "Epoch 8/100\n",
            "13/13 [==============================] - 0s 18ms/step - loss: 0.0045 - val_loss: 3.6295e-04\n",
            "Epoch 9/100\n",
            "13/13 [==============================] - 0s 24ms/step - loss: 0.0043 - val_loss: 3.3905e-04\n",
            "Epoch 10/100\n",
            "13/13 [==============================] - 0s 25ms/step - loss: 0.0036 - val_loss: 2.1366e-04\n",
            "Epoch 11/100\n",
            "13/13 [==============================] - 0s 19ms/step - loss: 0.0037 - val_loss: 3.2140e-04\n",
            "Epoch 12/100\n",
            "13/13 [==============================] - 0s 18ms/step - loss: 0.0036 - val_loss: 3.4987e-04\n",
            "Epoch 13/100\n",
            "13/13 [==============================] - 0s 18ms/step - loss: 0.0047 - val_loss: 7.6628e-04\n",
            "Epoch 14/100\n",
            "13/13 [==============================] - 0s 18ms/step - loss: 0.0043 - val_loss: 2.4582e-04\n",
            "Epoch 15/100\n",
            "13/13 [==============================] - 0s 18ms/step - loss: 0.0037 - val_loss: 3.1319e-04\n",
            "Epoch 16/100\n",
            "13/13 [==============================] - 0s 19ms/step - loss: 0.0027 - val_loss: 2.1172e-04\n",
            "Epoch 17/100\n",
            "13/13 [==============================] - 0s 18ms/step - loss: 0.0085 - val_loss: 4.8287e-04\n",
            "Epoch 18/100\n",
            "13/13 [==============================] - 0s 18ms/step - loss: 0.0058 - val_loss: 2.3362e-04\n",
            "Epoch 19/100\n",
            "13/13 [==============================] - 0s 18ms/step - loss: 0.0035 - val_loss: 9.6487e-04\n",
            "Epoch 20/100\n",
            "13/13 [==============================] - 0s 18ms/step - loss: 0.0046 - val_loss: 6.2579e-04\n",
            "Epoch 21/100\n",
            "13/13 [==============================] - 0s 19ms/step - loss: 0.0036 - val_loss: 2.3305e-04\n",
            "Epoch 22/100\n",
            "13/13 [==============================] - 0s 19ms/step - loss: 0.0029 - val_loss: 1.9787e-04\n",
            "Epoch 23/100\n",
            "13/13 [==============================] - 0s 18ms/step - loss: 0.0025 - val_loss: 2.3533e-04\n",
            "Epoch 24/100\n",
            "13/13 [==============================] - 0s 18ms/step - loss: 0.0036 - val_loss: 3.6057e-04\n",
            "Epoch 25/100\n",
            "13/13 [==============================] - 0s 18ms/step - loss: 0.0028 - val_loss: 1.5552e-04\n",
            "Epoch 26/100\n",
            "13/13 [==============================] - 0s 20ms/step - loss: 0.0028 - val_loss: 2.6878e-04\n",
            "Epoch 27/100\n",
            "13/13 [==============================] - 0s 19ms/step - loss: 0.0025 - val_loss: 3.1791e-04\n",
            "Epoch 28/100\n",
            "13/13 [==============================] - 0s 18ms/step - loss: 0.0021 - val_loss: 3.2701e-04\n",
            "Epoch 29/100\n",
            "13/13 [==============================] - 0s 18ms/step - loss: 0.0023 - val_loss: 2.2700e-04\n",
            "Epoch 30/100\n",
            "13/13 [==============================] - 0s 18ms/step - loss: 0.0021 - val_loss: 3.7768e-04\n",
            "Epoch 31/100\n",
            "13/13 [==============================] - 0s 19ms/step - loss: 0.0023 - val_loss: 5.7528e-04\n",
            "Epoch 32/100\n",
            "13/13 [==============================] - 0s 18ms/step - loss: 0.0021 - val_loss: 1.5995e-04\n",
            "Epoch 33/100\n",
            "13/13 [==============================] - 0s 18ms/step - loss: 0.0018 - val_loss: 2.7856e-04\n",
            "Epoch 34/100\n",
            "13/13 [==============================] - 0s 18ms/step - loss: 0.0021 - val_loss: 5.5321e-04\n",
            "Epoch 35/100\n",
            "13/13 [==============================] - 0s 19ms/step - loss: 0.0018 - val_loss: 1.5544e-04\n",
            "Epoch 36/100\n",
            "13/13 [==============================] - 0s 18ms/step - loss: 0.0017 - val_loss: 1.5666e-04\n",
            "Epoch 37/100\n",
            "13/13 [==============================] - 0s 18ms/step - loss: 0.0020 - val_loss: 3.1504e-04\n",
            "Epoch 38/100\n",
            "13/13 [==============================] - 0s 18ms/step - loss: 0.0015 - val_loss: 1.4223e-04\n",
            "Epoch 39/100\n",
            "13/13 [==============================] - 0s 22ms/step - loss: 0.0021 - val_loss: 1.9644e-04\n",
            "Epoch 40/100\n",
            "13/13 [==============================] - 0s 18ms/step - loss: 0.0022 - val_loss: 2.5550e-04\n",
            "Epoch 41/100\n",
            "13/13 [==============================] - 0s 20ms/step - loss: 0.0018 - val_loss: 1.4466e-04\n",
            "Epoch 42/100\n",
            "13/13 [==============================] - 0s 26ms/step - loss: 0.0016 - val_loss: 1.5928e-04\n",
            "Epoch 43/100\n",
            "13/13 [==============================] - 0s 26ms/step - loss: 0.0019 - val_loss: 1.4985e-04\n",
            "Epoch 44/100\n",
            "13/13 [==============================] - 0s 25ms/step - loss: 0.0016 - val_loss: 1.3806e-04\n",
            "Epoch 45/100\n",
            "13/13 [==============================] - 0s 34ms/step - loss: 0.0017 - val_loss: 2.2646e-04\n",
            "Epoch 46/100\n",
            "13/13 [==============================] - 1s 52ms/step - loss: 0.0014 - val_loss: 2.8110e-04\n",
            "Epoch 47/100\n",
            "13/13 [==============================] - 0s 31ms/step - loss: 0.0016 - val_loss: 2.0246e-04\n",
            "Epoch 48/100\n",
            "13/13 [==============================] - 0s 28ms/step - loss: 0.0015 - val_loss: 1.2570e-04\n",
            "Epoch 49/100\n",
            "13/13 [==============================] - 0s 32ms/step - loss: 0.0015 - val_loss: 3.3105e-04\n",
            "Epoch 50/100\n",
            "13/13 [==============================] - 0s 22ms/step - loss: 0.0015 - val_loss: 1.2322e-04\n",
            "Epoch 51/100\n",
            "13/13 [==============================] - 0s 22ms/step - loss: 0.0015 - val_loss: 3.6971e-04\n",
            "Epoch 52/100\n",
            "13/13 [==============================] - 0s 28ms/step - loss: 0.0016 - val_loss: 1.7167e-04\n",
            "Epoch 53/100\n",
            "13/13 [==============================] - 0s 19ms/step - loss: 0.0016 - val_loss: 1.7679e-04\n",
            "Epoch 54/100\n",
            "13/13 [==============================] - 0s 35ms/step - loss: 0.0013 - val_loss: 1.4271e-04\n",
            "Epoch 55/100\n",
            "13/13 [==============================] - 0s 34ms/step - loss: 0.0013 - val_loss: 1.2780e-04\n",
            "Epoch 56/100\n",
            "13/13 [==============================] - 0s 18ms/step - loss: 0.0013 - val_loss: 1.3173e-04\n",
            "Epoch 57/100\n",
            "13/13 [==============================] - 0s 26ms/step - loss: 0.0013 - val_loss: 1.3634e-04\n",
            "Epoch 58/100\n",
            "13/13 [==============================] - 0s 25ms/step - loss: 0.0013 - val_loss: 1.2991e-04\n",
            "Epoch 59/100\n",
            "13/13 [==============================] - 0s 20ms/step - loss: 0.0012 - val_loss: 1.2775e-04\n",
            "Epoch 60/100\n",
            "13/13 [==============================] - 0s 31ms/step - loss: 0.0013 - val_loss: 1.7004e-04\n",
            "Epoch 61/100\n",
            "13/13 [==============================] - 0s 28ms/step - loss: 0.0014 - val_loss: 1.5398e-04\n",
            "Epoch 62/100\n",
            "13/13 [==============================] - 0s 19ms/step - loss: 0.0011 - val_loss: 1.2996e-04\n",
            "Epoch 63/100\n",
            "13/13 [==============================] - 0s 26ms/step - loss: 0.0012 - val_loss: 2.3036e-04\n",
            "Epoch 64/100\n",
            "13/13 [==============================] - 0s 30ms/step - loss: 0.0012 - val_loss: 1.2253e-04\n",
            "Epoch 65/100\n",
            "13/13 [==============================] - 0s 21ms/step - loss: 0.0018 - val_loss: 1.1627e-04\n",
            "Epoch 66/100\n",
            "13/13 [==============================] - 0s 30ms/step - loss: 0.0018 - val_loss: 1.3610e-04\n",
            "Epoch 67/100\n",
            "13/13 [==============================] - 0s 30ms/step - loss: 0.0018 - val_loss: 2.4741e-04\n",
            "Epoch 68/100\n",
            "13/13 [==============================] - 0s 23ms/step - loss: 0.0016 - val_loss: 2.1150e-04\n",
            "Epoch 69/100\n",
            "13/13 [==============================] - 0s 24ms/step - loss: 0.0014 - val_loss: 1.2967e-04\n",
            "Epoch 70/100\n",
            "13/13 [==============================] - 0s 24ms/step - loss: 0.0015 - val_loss: 1.9500e-04\n",
            "Epoch 71/100\n",
            "13/13 [==============================] - 0s 18ms/step - loss: 0.0013 - val_loss: 1.3754e-04\n",
            "Epoch 72/100\n",
            "13/13 [==============================] - 0s 28ms/step - loss: 0.0012 - val_loss: 1.5806e-04\n",
            "Epoch 73/100\n",
            "13/13 [==============================] - 0s 23ms/step - loss: 0.0014 - val_loss: 1.2214e-04\n",
            "Epoch 74/100\n",
            "13/13 [==============================] - 0s 23ms/step - loss: 0.0013 - val_loss: 1.2694e-04\n",
            "Epoch 75/100\n",
            "13/13 [==============================] - 0s 25ms/step - loss: 0.0012 - val_loss: 1.5671e-04\n",
            "Epoch 76/100\n",
            "13/13 [==============================] - 1s 44ms/step - loss: 0.0014 - val_loss: 2.1152e-04\n",
            "Epoch 77/100\n",
            "13/13 [==============================] - 0s 38ms/step - loss: 0.0013 - val_loss: 1.1355e-04\n",
            "Epoch 78/100\n",
            "13/13 [==============================] - 1s 53ms/step - loss: 0.0012 - val_loss: 1.2073e-04\n",
            "Epoch 79/100\n",
            "13/13 [==============================] - 1s 53ms/step - loss: 0.0012 - val_loss: 1.3714e-04\n",
            "Epoch 80/100\n",
            "13/13 [==============================] - 1s 42ms/step - loss: 0.0012 - val_loss: 1.4898e-04\n",
            "Epoch 81/100\n",
            "13/13 [==============================] - 0s 27ms/step - loss: 0.0012 - val_loss: 2.1776e-04\n",
            "Epoch 82/100\n",
            "13/13 [==============================] - 0s 24ms/step - loss: 0.0014 - val_loss: 4.7908e-04\n",
            "Epoch 83/100\n",
            "13/13 [==============================] - 0s 18ms/step - loss: 0.0014 - val_loss: 1.3526e-04\n",
            "Epoch 84/100\n",
            "13/13 [==============================] - 0s 18ms/step - loss: 0.0012 - val_loss: 1.1793e-04\n",
            "Epoch 85/100\n",
            "13/13 [==============================] - 0s 18ms/step - loss: 0.0013 - val_loss: 2.4235e-04\n",
            "Epoch 86/100\n",
            "13/13 [==============================] - 0s 18ms/step - loss: 0.0012 - val_loss: 1.3871e-04\n",
            "Epoch 87/100\n",
            "13/13 [==============================] - 0s 18ms/step - loss: 0.0013 - val_loss: 1.5834e-04\n",
            "Epoch 88/100\n",
            "13/13 [==============================] - 0s 18ms/step - loss: 0.0011 - val_loss: 1.2921e-04\n",
            "Epoch 89/100\n",
            "13/13 [==============================] - 0s 21ms/step - loss: 0.0012 - val_loss: 1.5468e-04\n",
            "Epoch 90/100\n",
            "13/13 [==============================] - 0s 18ms/step - loss: 0.0012 - val_loss: 2.4262e-04\n",
            "Epoch 91/100\n",
            "13/13 [==============================] - 0s 18ms/step - loss: 0.0012 - val_loss: 1.6494e-04\n",
            "Epoch 92/100\n",
            "13/13 [==============================] - 0s 18ms/step - loss: 0.0011 - val_loss: 1.8919e-04\n",
            "Epoch 93/100\n",
            "13/13 [==============================] - 0s 18ms/step - loss: 0.0012 - val_loss: 1.1934e-04\n",
            "Epoch 94/100\n",
            "13/13 [==============================] - 0s 18ms/step - loss: 0.0011 - val_loss: 1.4060e-04\n",
            "Epoch 95/100\n",
            "13/13 [==============================] - 0s 18ms/step - loss: 0.0013 - val_loss: 2.8962e-04\n",
            "Epoch 96/100\n",
            "13/13 [==============================] - 0s 19ms/step - loss: 0.0012 - val_loss: 1.2359e-04\n",
            "Epoch 97/100\n",
            "13/13 [==============================] - 0s 18ms/step - loss: 0.0014 - val_loss: 1.2087e-04\n",
            "Epoch 98/100\n",
            "13/13 [==============================] - 0s 19ms/step - loss: 0.0012 - val_loss: 1.1317e-04\n",
            "Epoch 99/100\n",
            "13/13 [==============================] - 0s 20ms/step - loss: 0.0011 - val_loss: 1.7269e-04\n",
            "Epoch 100/100\n",
            "13/13 [==============================] - 0s 18ms/step - loss: 0.0011 - val_loss: 1.1474e-04\n"
          ]
        },
        {
          "data": {
            "text/plain": [
              "<keras.callbacks.History at 0x7f8bbc48e2c0>"
            ]
          },
          "execution_count": 28,
          "metadata": {},
          "output_type": "execute_result"
        }
      ],
      "source": [
        "model.fit(X_train, y_train, validation_data=(X_test, y_test), epochs=100, batch_size=64, verbose=1)"
      ]
    },
    {
      "cell_type": "code",
      "execution_count": 29,
      "metadata": {
        "colab": {
          "base_uri": "https://localhost:8080/"
        },
        "id": "-CUAkpIRiCqQ",
        "outputId": "99038f09-c6b6-4fbc-98ce-79adb660eaed"
      },
      "outputs": [
        {
          "name": "stdout",
          "output_type": "stream",
          "text": [
            "25/25 [==============================] - 1s 5ms/step\n",
            "9/9 [==============================] - 0s 8ms/step\n"
          ]
        }
      ],
      "source": [
        "## Predicting values for Training and Testing Data:\n",
        "\n",
        "train_pred = model.predict(X_train)\n",
        "test_pred = model.predict(X_test)"
      ]
    },
    {
      "cell_type": "code",
      "execution_count": 30,
      "metadata": {
        "id": "UFOi8cO06lyy"
      },
      "outputs": [],
      "source": [
        "#Since the data is scaled down to ranges of (0,1), we inverse transform the data\n",
        "\n",
        "train_pred = ms.inverse_transform(train_pred)\n",
        "test_pred = ms.inverse_transform(test_pred)"
      ]
    },
    {
      "cell_type": "markdown",
      "metadata": {
        "id": "oOxCl53J7EzP"
      },
      "source": [
        "### Evaluating the Performance Metrics:\n"
      ]
    },
    {
      "cell_type": "code",
      "execution_count": 31,
      "metadata": {
        "colab": {
          "base_uri": "https://localhost:8080/"
        },
        "id": "MDjACMpc7DiW",
        "outputId": "faf9622b-c87d-41f2-8221-6749bd199bb7"
      },
      "outputs": [
        {
          "data": {
            "text/plain": [
              "219.60898437769822"
            ]
          },
          "execution_count": 31,
          "metadata": {},
          "output_type": "execute_result"
        }
      ],
      "source": [
        "## Calculating the Mean_Squared_error on the training data\n",
        "\n",
        "from  sklearn.metrics import mean_squared_error\n",
        "import math \n",
        "math.sqrt(mean_squared_error(y_train, train_pred))"
      ]
    },
    {
      "cell_type": "code",
      "execution_count": 32,
      "metadata": {
        "colab": {
          "base_uri": "https://localhost:8080/"
        },
        "id": "E-5IEzxR79zZ",
        "outputId": "cc3ff130-2e18-41f7-fa6b-45a1f705512a"
      },
      "outputs": [
        {
          "data": {
            "text/plain": [
              "151.416186902579"
            ]
          },
          "execution_count": 32,
          "metadata": {},
          "output_type": "execute_result"
        }
      ],
      "source": [
        "## Calculating the mean squared error on testing data\n",
        "\n",
        "math.sqrt(mean_squared_error(y_test, test_pred))"
      ]
    },
    {
      "cell_type": "markdown",
      "metadata": {
        "id": "827eVWg3tqNE"
      },
      "source": [
        "- Plotting the train and test preds:"
      ]
    },
    {
      "cell_type": "code",
      "execution_count": 34,
      "metadata": {
        "colab": {
          "base_uri": "https://localhost:8080/",
          "height": 430
        },
        "id": "6bPWpMchbg4n",
        "outputId": "2a445764-b44c-442e-b599-aad0ed07e63c"
      },
      "outputs": [
        {
          "data": {
            "image/png": "[encoded data removed]",
            "text/plain": [
              "<Figure size 640x480 with 1 Axes>"
            ]
          },
          "metadata": {},
          "output_type": "display_data"
        }
      ],
      "source": [
        "#shifting train predictions for the plot\n",
        "\n",
        "\n",
        "look_back = 100\n",
        "train_pred_plot = np.empty_like(df)\n",
        "train_pred_plot[:, :] = np.nan\n",
        "train_pred_plot[look_back : len(train_pred)+look_back, :] = train_pred\n",
        "\n",
        "#Shifting test prediction for plotting\n",
        "\n",
        "test_pred_plot = np.empty_like(df)\n",
        "test_pred_plot[:, :] = np.nan\n",
        "test_pred_plot[len(train_pred)+(look_back*2)+1 : len(df)-1, :] = test_pred\n",
        "\n",
        "#Inverse transforming the values and showing the plots\n",
        "\n",
        "#1. Plotting the original df:\n",
        "plt.plot(ms.inverse_transform(df))\n",
        "\n",
        "#2. Plotting the training data predictions over the original df:\n",
        "plt.plot(train_pred_plot)\n",
        "\n",
        "#3. Plotting the testing data predictions over the original df:\n",
        "plt.plot(test_pred_plot)\n",
        "plt.savefig(\"Stock_Prediction_Graph(AAPL).jpg\")\n",
        "plt.show()"
      ]
    },
    {
      "cell_type": "markdown",
      "metadata": {
        "id": "6OQU4R261zkn"
      },
      "source": [
        "### Phase: Forecasting for Next 30 days:"
      ]
    },
    {
      "cell_type": "code",
      "execution_count": 35,
      "metadata": {
        "colab": {
          "base_uri": "https://localhost:8080/"
        },
        "id": "N4I71M1ZwPD2",
        "outputId": "f6238720-adb4-4e31-8168-faa2d656fbf0"
      },
      "outputs": [
        {
          "data": {
            "text/plain": [
              "378"
            ]
          },
          "execution_count": 35,
          "metadata": {},
          "output_type": "execute_result"
        }
      ],
      "source": [
        "len(test_data)"
      ]
    },
    {
      "cell_type": "code",
      "execution_count": 36,
      "metadata": {
        "colab": {
          "base_uri": "https://localhost:8080/"
        },
        "id": "2ABFAIVg2GyZ",
        "outputId": "e39dba54-8248-4f90-81db-c89155443a5b"
      },
      "outputs": [
        {
          "data": {
            "text/plain": [
              "(1, 100)"
            ]
          },
          "execution_count": 36,
          "metadata": {},
          "output_type": "execute_result"
        }
      ],
      "source": [
        "## Since it is a time-series data: to forecast the data for n days into the future we need to relate to the past data as well.\n",
        "#Testing data Size = 378; 100 days back = 278\n",
        "\n",
        "\n",
        "x_input = test_data[278 : ].reshape(1,-1)\n",
        "x_input.shape"
      ]
    },
    {
      "cell_type": "code",
      "execution_count": 38,
      "metadata": {
        "id": "hkFTuwzi2rg8"
      },
      "outputs": [],
      "source": [
        "#Convert this array into a list\n",
        "\n",
        "temp_input = list(x_input)\n",
        "temp_input = temp_input[0].tolist()"
      ]
    },
    {
      "cell_type": "code",
      "execution_count": 43,
      "metadata": {
        "colab": {
          "base_uri": "https://localhost:8080/"
        },
        "id": "tAbZiqrX3HB3",
        "outputId": "18e068d1-0fd7-491c-c8b3-f75af76ddaa7"
      },
      "outputs": [
        {
          "name": "stdout",
          "output_type": "stream",
          "text": [
            "0 day : input [0.09675642 0.0910958  0.07428929 0.06930495 0.0639449  0.06376957\n",
            " 0.07165936 0.06359424 0.0626675  0.05808391 0.04809017 0.05703193\n",
            " 0.05783344 0.04566061 0.04889167 0.04553538 0.05705698 0.05838447\n",
            " 0.05983719 0.06675016 0.06654978 0.06993112 0.07288666 0.07105823\n",
            " 0.07120852 0.07772073 0.08583594 0.08939261 0.08771446 0.09297433\n",
            " 0.09790858 0.09056982 0.09380088 0.09665623 0.11015654 0.11937383\n",
            " 0.11243582 0.11974953 0.11291171 0.11028178 0.11063244 0.11774577\n",
            " 0.11611772 0.12145272 0.11739512 0.11448967 0.10429555 0.10537257\n",
            " 0.10659987 0.09986224 0.10289292 0.10161553 0.09635567 0.09785848\n",
            " 0.11068253 0.11769568 0.11211021 0.11529117 0.10958046 0.10434565\n",
            " 0.1092799  0.11458986 0.11559173 0.12275517 0.12062617 0.12663745\n",
            " 0.13134627 0.12771446 0.13046963 0.13377583 0.12884158 0.12726362\n",
            " 0.13507827 0.13906074 0.14542267 0.14860363 0.1472511  0.14256731\n",
            " 0.14482154 0.13823419 0.13515341 0.13340013 0.14707577 0.14619912\n",
            " 0.14624922 0.14935504 0.15226049 0.14980589 0.14572323 0.14649969\n",
            " 0.14259236 0.14256731 0.15421415 0.15739512 0.15716969 0.15453976\n",
            " 0.15180964 0.14765185 0.16713838 0.15221277]\n",
            "0 day : Output [[0.15287119]]\n",
            "1 day : input [0.0910958  0.07428929 0.06930495 0.0639449  0.06376957 0.07165936\n",
            " 0.06359424 0.0626675  0.05808391 0.04809017 0.05703193 0.05783344\n",
            " 0.04566061 0.04889167 0.04553538 0.05705698 0.05838447 0.05983719\n",
            " 0.06675016 0.06654978 0.06993112 0.07288666 0.07105823 0.07120852\n",
            " 0.07772073 0.08583594 0.08939261 0.08771446 0.09297433 0.09790858\n",
            " 0.09056982 0.09380088 0.09665623 0.11015654 0.11937383 0.11243582\n",
            " 0.11974953 0.11291171 0.11028178 0.11063244 0.11774577 0.11611772\n",
            " 0.12145272 0.11739512 0.11448967 0.10429555 0.10537257 0.10659987\n",
            " 0.09986224 0.10289292 0.10161553 0.09635567 0.09785848 0.11068253\n",
            " 0.11769568 0.11211021 0.11529117 0.10958046 0.10434565 0.1092799\n",
            " 0.11458986 0.11559173 0.12275517 0.12062617 0.12663745 0.13134627\n",
            " 0.12771446 0.13046963 0.13377583 0.12884158 0.12726362 0.13507827\n",
            " 0.13906074 0.14542267 0.14860363 0.1472511  0.14256731 0.14482154\n",
            " 0.13823419 0.13515341 0.13340013 0.14707577 0.14619912 0.14624922\n",
            " 0.14935504 0.15226049 0.14980589 0.14572323 0.14649969 0.14259236\n",
            " 0.14256731 0.15421415 0.15739512 0.15716969 0.15453976 0.15180964\n",
            " 0.14765185 0.16713838 0.15221277 0.15287119]\n",
            "1 day : Output [[0.15264297]]\n",
            "2 day : input [0.07428929 0.06930495 0.0639449  0.06376957 0.07165936 0.06359424\n",
            " 0.0626675  0.05808391 0.04809017 0.05703193 0.05783344 0.04566061\n",
            " 0.04889167 0.04553538 0.05705698 0.05838447 0.05983719 0.06675016\n",
            " 0.06654978 0.06993112 0.07288666 0.07105823 0.07120852 0.07772073\n",
            " 0.08583594 0.08939261 0.08771446 0.09297433 0.09790858 0.09056982\n",
            " 0.09380088 0.09665623 0.11015654 0.11937383 0.11243582 0.11974953\n",
            " 0.11291171 0.11028178 0.11063244 0.11774577 0.11611772 0.12145272\n",
            " 0.11739512 0.11448967 0.10429555 0.10537257 0.10659987 0.09986224\n",
            " 0.10289292 0.10161553 0.09635567 0.09785848 0.11068253 0.11769568\n",
            " 0.11211021 0.11529117 0.10958046 0.10434565 0.1092799  0.11458986\n",
            " 0.11559173 0.12275517 0.12062617 0.12663745 0.13134627 0.12771446\n",
            " 0.13046963 0.13377583 0.12884158 0.12726362 0.13507827 0.13906074\n",
            " 0.14542267 0.14860363 0.1472511  0.14256731 0.14482154 0.13823419\n",
            " 0.13515341 0.13340013 0.14707577 0.14619912 0.14624922 0.14935504\n",
            " 0.15226049 0.14980589 0.14572323 0.14649969 0.14259236 0.14256731\n",
            " 0.15421415 0.15739512 0.15716969 0.15453976 0.15180964 0.14765185\n",
            " 0.16713838 0.15221277 0.15287119 0.15264297]\n",
            "2 day : Output [[0.15191682]]\n",
            "3 day : input [0.06930495 0.0639449  0.06376957 0.07165936 0.06359424 0.0626675\n",
            " 0.05808391 0.04809017 0.05703193 0.05783344 0.04566061 0.04889167\n",
            " 0.04553538 0.05705698 0.05838447 0.05983719 0.06675016 0.06654978\n",
            " 0.06993112 0.07288666 0.07105823 0.07120852 0.07772073 0.08583594\n",
            " 0.08939261 0.08771446 0.09297433 0.09790858 0.09056982 0.09380088\n",
            " 0.09665623 0.11015654 0.11937383 0.11243582 0.11974953 0.11291171\n",
            " 0.11028178 0.11063244 0.11774577 0.11611772 0.12145272 0.11739512\n",
            " 0.11448967 0.10429555 0.10537257 0.10659987 0.09986224 0.10289292\n",
            " 0.10161553 0.09635567 0.09785848 0.11068253 0.11769568 0.11211021\n",
            " 0.11529117 0.10958046 0.10434565 0.1092799  0.11458986 0.11559173\n",
            " 0.12275517 0.12062617 0.12663745 0.13134627 0.12771446 0.13046963\n",
            " 0.13377583 0.12884158 0.12726362 0.13507827 0.13906074 0.14542267\n",
            " 0.14860363 0.1472511  0.14256731 0.14482154 0.13823419 0.13515341\n",
            " 0.13340013 0.14707577 0.14619912 0.14624922 0.14935504 0.15226049\n",
            " 0.14980589 0.14572323 0.14649969 0.14259236 0.14256731 0.15421415\n",
            " 0.15739512 0.15716969 0.15453976 0.15180964 0.14765185 0.16713838\n",
            " 0.15221277 0.15287119 0.15264297 0.15191682]\n",
            "3 day : Output [[0.15100515]]\n",
            "4 day : input [0.0639449  0.06376957 0.07165936 0.06359424 0.0626675  0.05808391\n",
            " 0.04809017 0.05703193 0.05783344 0.04566061 0.04889167 0.04553538\n",
            " 0.05705698 0.05838447 0.05983719 0.06675016 0.06654978 0.06993112\n",
            " 0.07288666 0.07105823 0.07120852 0.07772073 0.08583594 0.08939261\n",
            " 0.08771446 0.09297433 0.09790858 0.09056982 0.09380088 0.09665623\n",
            " 0.11015654 0.11937383 0.11243582 0.11974953 0.11291171 0.11028178\n",
            " 0.11063244 0.11774577 0.11611772 0.12145272 0.11739512 0.11448967\n",
            " 0.10429555 0.10537257 0.10659987 0.09986224 0.10289292 0.10161553\n",
            " 0.09635567 0.09785848 0.11068253 0.11769568 0.11211021 0.11529117\n",
            " 0.10958046 0.10434565 0.1092799  0.11458986 0.11559173 0.12275517\n",
            " 0.12062617 0.12663745 0.13134627 0.12771446 0.13046963 0.13377583\n",
            " 0.12884158 0.12726362 0.13507827 0.13906074 0.14542267 0.14860363\n",
            " 0.1472511  0.14256731 0.14482154 0.13823419 0.13515341 0.13340013\n",
            " 0.14707577 0.14619912 0.14624922 0.14935504 0.15226049 0.14980589\n",
            " 0.14572323 0.14649969 0.14259236 0.14256731 0.15421415 0.15739512\n",
            " 0.15716969 0.15453976 0.15180964 0.14765185 0.16713838 0.15221277\n",
            " 0.15287119 0.15264297 0.15191682 0.15100515]\n",
            "4 day : Output [[0.15006962]]\n",
            "5 day : input [0.06376957 0.07165936 0.06359424 0.0626675  0.05808391 0.04809017\n",
            " 0.05703193 0.05783344 0.04566061 0.04889167 0.04553538 0.05705698\n",
            " 0.05838447 0.05983719 0.06675016 0.06654978 0.06993112 0.07288666\n",
            " 0.07105823 0.07120852 0.07772073 0.08583594 0.08939261 0.08771446\n",
            " 0.09297433 0.09790858 0.09056982 0.09380088 0.09665623 0.11015654\n",
            " 0.11937383 0.11243582 0.11974953 0.11291171 0.11028178 0.11063244\n",
            " 0.11774577 0.11611772 0.12145272 0.11739512 0.11448967 0.10429555\n",
            " 0.10537257 0.10659987 0.09986224 0.10289292 0.10161553 0.09635567\n",
            " 0.09785848 0.11068253 0.11769568 0.11211021 0.11529117 0.10958046\n",
            " 0.10434565 0.1092799  0.11458986 0.11559173 0.12275517 0.12062617\n",
            " 0.12663745 0.13134627 0.12771446 0.13046963 0.13377583 0.12884158\n",
            " 0.12726362 0.13507827 0.13906074 0.14542267 0.14860363 0.1472511\n",
            " 0.14256731 0.14482154 0.13823419 0.13515341 0.13340013 0.14707577\n",
            " 0.14619912 0.14624922 0.14935504 0.15226049 0.14980589 0.14572323\n",
            " 0.14649969 0.14259236 0.14256731 0.15421415 0.15739512 0.15716969\n",
            " 0.15453976 0.15180964 0.14765185 0.16713838 0.15221277 0.15287119\n",
            " 0.15264297 0.15191682 0.15100515 0.15006962]\n",
            "5 day : Output [[0.14917527]]\n",
            "6 day : input [0.07165936 0.06359424 0.0626675  0.05808391 0.04809017 0.05703193\n",
            " 0.05783344 0.04566061 0.04889167 0.04553538 0.05705698 0.05838447\n",
            " 0.05983719 0.06675016 0.06654978 0.06993112 0.07288666 0.07105823\n",
            " 0.07120852 0.07772073 0.08583594 0.08939261 0.08771446 0.09297433\n",
            " 0.09790858 0.09056982 0.09380088 0.09665623 0.11015654 0.11937383\n",
            " 0.11243582 0.11974953 0.11291171 0.11028178 0.11063244 0.11774577\n",
            " 0.11611772 0.12145272 0.11739512 0.11448967 0.10429555 0.10537257\n",
            " 0.10659987 0.09986224 0.10289292 0.10161553 0.09635567 0.09785848\n",
            " 0.11068253 0.11769568 0.11211021 0.11529117 0.10958046 0.10434565\n",
            " 0.1092799  0.11458986 0.11559173 0.12275517 0.12062617 0.12663745\n",
            " 0.13134627 0.12771446 0.13046963 0.13377583 0.12884158 0.12726362\n",
            " 0.13507827 0.13906074 0.14542267 0.14860363 0.1472511  0.14256731\n",
            " 0.14482154 0.13823419 0.13515341 0.13340013 0.14707577 0.14619912\n",
            " 0.14624922 0.14935504 0.15226049 0.14980589 0.14572323 0.14649969\n",
            " 0.14259236 0.14256731 0.15421415 0.15739512 0.15716969 0.15453976\n",
            " 0.15180964 0.14765185 0.16713838 0.15221277 0.15287119 0.15264297\n",
            " 0.15191682 0.15100515 0.15006962 0.14917527]\n",
            "6 day : Output [[0.14834057]]\n",
            "7 day : input [0.06359424 0.0626675  0.05808391 0.04809017 0.05703193 0.05783344\n",
            " 0.04566061 0.04889167 0.04553538 0.05705698 0.05838447 0.05983719\n",
            " 0.06675016 0.06654978 0.06993112 0.07288666 0.07105823 0.07120852\n",
            " 0.07772073 0.08583594 0.08939261 0.08771446 0.09297433 0.09790858\n",
            " 0.09056982 0.09380088 0.09665623 0.11015654 0.11937383 0.11243582\n",
            " 0.11974953 0.11291171 0.11028178 0.11063244 0.11774577 0.11611772\n",
            " 0.12145272 0.11739512 0.11448967 0.10429555 0.10537257 0.10659987\n",
            " 0.09986224 0.10289292 0.10161553 0.09635567 0.09785848 0.11068253\n",
            " 0.11769568 0.11211021 0.11529117 0.10958046 0.10434565 0.1092799\n",
            " 0.11458986 0.11559173 0.12275517 0.12062617 0.12663745 0.13134627\n",
            " 0.12771446 0.13046963 0.13377583 0.12884158 0.12726362 0.13507827\n",
            " 0.13906074 0.14542267 0.14860363 0.1472511  0.14256731 0.14482154\n",
            " 0.13823419 0.13515341 0.13340013 0.14707577 0.14619912 0.14624922\n",
            " 0.14935504 0.15226049 0.14980589 0.14572323 0.14649969 0.14259236\n",
            " 0.14256731 0.15421415 0.15739512 0.15716969 0.15453976 0.15180964\n",
            " 0.14765185 0.16713838 0.15221277 0.15287119 0.15264297 0.15191682\n",
            " 0.15100515 0.15006962 0.14917527 0.14834057]\n",
            "7 day : Output [[0.14756414]]\n",
            "8 day : input [0.0626675  0.05808391 0.04809017 0.05703193 0.05783344 0.04566061\n",
            " 0.04889167 0.04553538 0.05705698 0.05838447 0.05983719 0.06675016\n",
            " 0.06654978 0.06993112 0.07288666 0.07105823 0.07120852 0.07772073\n",
            " 0.08583594 0.08939261 0.08771446 0.09297433 0.09790858 0.09056982\n",
            " 0.09380088 0.09665623 0.11015654 0.11937383 0.11243582 0.11974953\n",
            " 0.11291171 0.11028178 0.11063244 0.11774577 0.11611772 0.12145272\n",
            " 0.11739512 0.11448967 0.10429555 0.10537257 0.10659987 0.09986224\n",
            " 0.10289292 0.10161553 0.09635567 0.09785848 0.11068253 0.11769568\n",
            " 0.11211021 0.11529117 0.10958046 0.10434565 0.1092799  0.11458986\n",
            " 0.11559173 0.12275517 0.12062617 0.12663745 0.13134627 0.12771446\n",
            " 0.13046963 0.13377583 0.12884158 0.12726362 0.13507827 0.13906074\n",
            " 0.14542267 0.14860363 0.1472511  0.14256731 0.14482154 0.13823419\n",
            " 0.13515341 0.13340013 0.14707577 0.14619912 0.14624922 0.14935504\n",
            " 0.15226049 0.14980589 0.14572323 0.14649969 0.14259236 0.14256731\n",
            " 0.15421415 0.15739512 0.15716969 0.15453976 0.15180964 0.14765185\n",
            " 0.16713838 0.15221277 0.15287119 0.15264297 0.15191682 0.15100515\n",
            " 0.15006962 0.14917527 0.14834057 0.14756414]\n",
            "8 day : Output [[0.14683618]]\n",
            "9 day : input [0.05808391 0.04809017 0.05703193 0.05783344 0.04566061 0.04889167\n",
            " 0.04553538 0.05705698 0.05838447 0.05983719 0.06675016 0.06654978\n",
            " 0.06993112 0.07288666 0.07105823 0.07120852 0.07772073 0.08583594\n",
            " 0.08939261 0.08771446 0.09297433 0.09790858 0.09056982 0.09380088\n",
            " 0.09665623 0.11015654 0.11937383 0.11243582 0.11974953 0.11291171\n",
            " 0.11028178 0.11063244 0.11774577 0.11611772 0.12145272 0.11739512\n",
            " 0.11448967 0.10429555 0.10537257 0.10659987 0.09986224 0.10289292\n",
            " 0.10161553 0.09635567 0.09785848 0.11068253 0.11769568 0.11211021\n",
            " 0.11529117 0.10958046 0.10434565 0.1092799  0.11458986 0.11559173\n",
            " 0.12275517 0.12062617 0.12663745 0.13134627 0.12771446 0.13046963\n",
            " 0.13377583 0.12884158 0.12726362 0.13507827 0.13906074 0.14542267\n",
            " 0.14860363 0.1472511  0.14256731 0.14482154 0.13823419 0.13515341\n",
            " 0.13340013 0.14707577 0.14619912 0.14624922 0.14935504 0.15226049\n",
            " 0.14980589 0.14572323 0.14649969 0.14259236 0.14256731 0.15421415\n",
            " 0.15739512 0.15716969 0.15453976 0.15180964 0.14765185 0.16713838\n",
            " 0.15221277 0.15287119 0.15264297 0.15191682 0.15100515 0.15006962\n",
            " 0.14917527 0.14834057 0.14756414 0.14683618]\n",
            "9 day : Output [[0.14614321]]\n",
            "10 day : input [0.04809017 0.05703193 0.05783344 0.04566061 0.04889167 0.04553538\n",
            " 0.05705698 0.05838447 0.05983719 0.06675016 0.06654978 0.06993112\n",
            " 0.07288666 0.07105823 0.07120852 0.07772073 0.08583594 0.08939261\n",
            " 0.08771446 0.09297433 0.09790858 0.09056982 0.09380088 0.09665623\n",
            " 0.11015654 0.11937383 0.11243582 0.11974953 0.11291171 0.11028178\n",
            " 0.11063244 0.11774577 0.11611772 0.12145272 0.11739512 0.11448967\n",
            " 0.10429555 0.10537257 0.10659987 0.09986224 0.10289292 0.10161553\n",
            " 0.09635567 0.09785848 0.11068253 0.11769568 0.11211021 0.11529117\n",
            " 0.10958046 0.10434565 0.1092799  0.11458986 0.11559173 0.12275517\n",
            " 0.12062617 0.12663745 0.13134627 0.12771446 0.13046963 0.13377583\n",
            " 0.12884158 0.12726362 0.13507827 0.13906074 0.14542267 0.14860363\n",
            " 0.1472511  0.14256731 0.14482154 0.13823419 0.13515341 0.13340013\n",
            " 0.14707577 0.14619912 0.14624922 0.14935504 0.15226049 0.14980589\n",
            " 0.14572323 0.14649969 0.14259236 0.14256731 0.15421415 0.15739512\n",
            " 0.15716969 0.15453976 0.15180964 0.14765185 0.16713838 0.15221277\n",
            " 0.15287119 0.15264297 0.15191682 0.15100515 0.15006962 0.14917527\n",
            " 0.14834057 0.14756414 0.14683618 0.14614321]\n",
            "10 day : Output [[0.14547074]]\n",
            "11 day : input [0.05703193 0.05783344 0.04566061 0.04889167 0.04553538 0.05705698\n",
            " 0.05838447 0.05983719 0.06675016 0.06654978 0.06993112 0.07288666\n",
            " 0.07105823 0.07120852 0.07772073 0.08583594 0.08939261 0.08771446\n",
            " 0.09297433 0.09790858 0.09056982 0.09380088 0.09665623 0.11015654\n",
            " 0.11937383 0.11243582 0.11974953 0.11291171 0.11028178 0.11063244\n",
            " 0.11774577 0.11611772 0.12145272 0.11739512 0.11448967 0.10429555\n",
            " 0.10537257 0.10659987 0.09986224 0.10289292 0.10161553 0.09635567\n",
            " 0.09785848 0.11068253 0.11769568 0.11211021 0.11529117 0.10958046\n",
            " 0.10434565 0.1092799  0.11458986 0.11559173 0.12275517 0.12062617\n",
            " 0.12663745 0.13134627 0.12771446 0.13046963 0.13377583 0.12884158\n",
            " 0.12726362 0.13507827 0.13906074 0.14542267 0.14860363 0.1472511\n",
            " 0.14256731 0.14482154 0.13823419 0.13515341 0.13340013 0.14707577\n",
            " 0.14619912 0.14624922 0.14935504 0.15226049 0.14980589 0.14572323\n",
            " 0.14649969 0.14259236 0.14256731 0.15421415 0.15739512 0.15716969\n",
            " 0.15453976 0.15180964 0.14765185 0.16713838 0.15221277 0.15287119\n",
            " 0.15264297 0.15191682 0.15100515 0.15006962 0.14917527 0.14834057\n",
            " 0.14756414 0.14683618 0.14614321 0.14547074]\n",
            "11 day : Output [[0.14480495]]\n",
            "12 day : input [0.05783344 0.04566061 0.04889167 0.04553538 0.05705698 0.05838447\n",
            " 0.05983719 0.06675016 0.06654978 0.06993112 0.07288666 0.07105823\n",
            " 0.07120852 0.07772073 0.08583594 0.08939261 0.08771446 0.09297433\n",
            " 0.09790858 0.09056982 0.09380088 0.09665623 0.11015654 0.11937383\n",
            " 0.11243582 0.11974953 0.11291171 0.11028178 0.11063244 0.11774577\n",
            " 0.11611772 0.12145272 0.11739512 0.11448967 0.10429555 0.10537257\n",
            " 0.10659987 0.09986224 0.10289292 0.10161553 0.09635567 0.09785848\n",
            " 0.11068253 0.11769568 0.11211021 0.11529117 0.10958046 0.10434565\n",
            " 0.1092799  0.11458986 0.11559173 0.12275517 0.12062617 0.12663745\n",
            " 0.13134627 0.12771446 0.13046963 0.13377583 0.12884158 0.12726362\n",
            " 0.13507827 0.13906074 0.14542267 0.14860363 0.1472511  0.14256731\n",
            " 0.14482154 0.13823419 0.13515341 0.13340013 0.14707577 0.14619912\n",
            " 0.14624922 0.14935504 0.15226049 0.14980589 0.14572323 0.14649969\n",
            " 0.14259236 0.14256731 0.15421415 0.15739512 0.15716969 0.15453976\n",
            " 0.15180964 0.14765185 0.16713838 0.15221277 0.15287119 0.15264297\n",
            " 0.15191682 0.15100515 0.15006962 0.14917527 0.14834057 0.14756414\n",
            " 0.14683618 0.14614321 0.14547074 0.14480495]\n",
            "12 day : Output [[0.1441342]]\n",
            "13 day : input [0.04566061 0.04889167 0.04553538 0.05705698 0.05838447 0.05983719\n",
            " 0.06675016 0.06654978 0.06993112 0.07288666 0.07105823 0.07120852\n",
            " 0.07772073 0.08583594 0.08939261 0.08771446 0.09297433 0.09790858\n",
            " 0.09056982 0.09380088 0.09665623 0.11015654 0.11937383 0.11243582\n",
            " 0.11974953 0.11291171 0.11028178 0.11063244 0.11774577 0.11611772\n",
            " 0.12145272 0.11739512 0.11448967 0.10429555 0.10537257 0.10659987\n",
            " 0.09986224 0.10289292 0.10161553 0.09635567 0.09785848 0.11068253\n",
            " 0.11769568 0.11211021 0.11529117 0.10958046 0.10434565 0.1092799\n",
            " 0.11458986 0.11559173 0.12275517 0.12062617 0.12663745 0.13134627\n",
            " 0.12771446 0.13046963 0.13377583 0.12884158 0.12726362 0.13507827\n",
            " 0.13906074 0.14542267 0.14860363 0.1472511  0.14256731 0.14482154\n",
            " 0.13823419 0.13515341 0.13340013 0.14707577 0.14619912 0.14624922\n",
            " 0.14935504 0.15226049 0.14980589 0.14572323 0.14649969 0.14259236\n",
            " 0.14256731 0.15421415 0.15739512 0.15716969 0.15453976 0.15180964\n",
            " 0.14765185 0.16713838 0.15221277 0.15287119 0.15264297 0.15191682\n",
            " 0.15100515 0.15006962 0.14917527 0.14834057 0.14756414 0.14683618\n",
            " 0.14614321 0.14547074 0.14480495 0.14413419]\n",
            "13 day : Output [[0.14344984]]\n",
            "14 day : input [0.04889167 0.04553538 0.05705698 0.05838447 0.05983719 0.06675016\n",
            " 0.06654978 0.06993112 0.07288666 0.07105823 0.07120852 0.07772073\n",
            " 0.08583594 0.08939261 0.08771446 0.09297433 0.09790858 0.09056982\n",
            " 0.09380088 0.09665623 0.11015654 0.11937383 0.11243582 0.11974953\n",
            " 0.11291171 0.11028178 0.11063244 0.11774577 0.11611772 0.12145272\n",
            " 0.11739512 0.11448967 0.10429555 0.10537257 0.10659987 0.09986224\n",
            " 0.10289292 0.10161553 0.09635567 0.09785848 0.11068253 0.11769568\n",
            " 0.11211021 0.11529117 0.10958046 0.10434565 0.1092799  0.11458986\n",
            " 0.11559173 0.12275517 0.12062617 0.12663745 0.13134627 0.12771446\n",
            " 0.13046963 0.13377583 0.12884158 0.12726362 0.13507827 0.13906074\n",
            " 0.14542267 0.14860363 0.1472511  0.14256731 0.14482154 0.13823419\n",
            " 0.13515341 0.13340013 0.14707577 0.14619912 0.14624922 0.14935504\n",
            " 0.15226049 0.14980589 0.14572323 0.14649969 0.14259236 0.14256731\n",
            " 0.15421415 0.15739512 0.15716969 0.15453976 0.15180964 0.14765185\n",
            " 0.16713838 0.15221277 0.15287119 0.15264297 0.15191682 0.15100515\n",
            " 0.15006962 0.14917527 0.14834057 0.14756414 0.14683618 0.14614321\n",
            " 0.14547074 0.14480495 0.14413419 0.14344984]\n",
            "14 day : Output [[0.14274672]]\n",
            "15 day : input [0.04553538 0.05705698 0.05838447 0.05983719 0.06675016 0.06654978\n",
            " 0.06993112 0.07288666 0.07105823 0.07120852 0.07772073 0.08583594\n",
            " 0.08939261 0.08771446 0.09297433 0.09790858 0.09056982 0.09380088\n",
            " 0.09665623 0.11015654 0.11937383 0.11243582 0.11974953 0.11291171\n",
            " 0.11028178 0.11063244 0.11774577 0.11611772 0.12145272 0.11739512\n",
            " 0.11448967 0.10429555 0.10537257 0.10659987 0.09986224 0.10289292\n",
            " 0.10161553 0.09635567 0.09785848 0.11068253 0.11769568 0.11211021\n",
            " 0.11529117 0.10958046 0.10434565 0.1092799  0.11458986 0.11559173\n",
            " 0.12275517 0.12062617 0.12663745 0.13134627 0.12771446 0.13046963\n",
            " 0.13377583 0.12884158 0.12726362 0.13507827 0.13906074 0.14542267\n",
            " 0.14860363 0.1472511  0.14256731 0.14482154 0.13823419 0.13515341\n",
            " 0.13340013 0.14707577 0.14619912 0.14624922 0.14935504 0.15226049\n",
            " 0.14980589 0.14572323 0.14649969 0.14259236 0.14256731 0.15421415\n",
            " 0.15739512 0.15716969 0.15453976 0.15180964 0.14765185 0.16713838\n",
            " 0.15221277 0.15287119 0.15264297 0.15191682 0.15100515 0.15006962\n",
            " 0.14917527 0.14834057 0.14756414 0.14683618 0.14614321 0.14547074\n",
            " 0.14480495 0.14413419 0.14344984 0.14274672]\n",
            "15 day : Output [[0.14202316]]\n",
            "16 day : input [0.05705698 0.05838447 0.05983719 0.06675016 0.06654978 0.06993112\n",
            " 0.07288666 0.07105823 0.07120852 0.07772073 0.08583594 0.08939261\n",
            " 0.08771446 0.09297433 0.09790858 0.09056982 0.09380088 0.09665623\n",
            " 0.11015654 0.11937383 0.11243582 0.11974953 0.11291171 0.11028178\n",
            " 0.11063244 0.11774577 0.11611772 0.12145272 0.11739512 0.11448967\n",
            " 0.10429555 0.10537257 0.10659987 0.09986224 0.10289292 0.10161553\n",
            " 0.09635567 0.09785848 0.11068253 0.11769568 0.11211021 0.11529117\n",
            " 0.10958046 0.10434565 0.1092799  0.11458986 0.11559173 0.12275517\n",
            " 0.12062617 0.12663745 0.13134627 0.12771446 0.13046963 0.13377583\n",
            " 0.12884158 0.12726362 0.13507827 0.13906074 0.14542267 0.14860363\n",
            " 0.1472511  0.14256731 0.14482154 0.13823419 0.13515341 0.13340013\n",
            " 0.14707577 0.14619912 0.14624922 0.14935504 0.15226049 0.14980589\n",
            " 0.14572323 0.14649969 0.14259236 0.14256731 0.15421415 0.15739512\n",
            " 0.15716969 0.15453976 0.15180964 0.14765185 0.16713838 0.15221277\n",
            " 0.15287119 0.15264297 0.15191682 0.15100515 0.15006962 0.14917527\n",
            " 0.14834057 0.14756414 0.14683618 0.14614321 0.14547074 0.14480495\n",
            " 0.14413419 0.14344984 0.14274672 0.14202316]\n",
            "16 day : Output [[0.14128059]]\n",
            "17 day : input [0.05838447 0.05983719 0.06675016 0.06654978 0.06993112 0.07288666\n",
            " 0.07105823 0.07120852 0.07772073 0.08583594 0.08939261 0.08771446\n",
            " 0.09297433 0.09790858 0.09056982 0.09380088 0.09665623 0.11015654\n",
            " 0.11937383 0.11243582 0.11974953 0.11291171 0.11028178 0.11063244\n",
            " 0.11774577 0.11611772 0.12145272 0.11739512 0.11448967 0.10429555\n",
            " 0.10537257 0.10659987 0.09986224 0.10289292 0.10161553 0.09635567\n",
            " 0.09785848 0.11068253 0.11769568 0.11211021 0.11529117 0.10958046\n",
            " 0.10434565 0.1092799  0.11458986 0.11559173 0.12275517 0.12062617\n",
            " 0.12663745 0.13134627 0.12771446 0.13046963 0.13377583 0.12884158\n",
            " 0.12726362 0.13507827 0.13906074 0.14542267 0.14860363 0.1472511\n",
            " 0.14256731 0.14482154 0.13823419 0.13515341 0.13340013 0.14707577\n",
            " 0.14619912 0.14624922 0.14935504 0.15226049 0.14980589 0.14572323\n",
            " 0.14649969 0.14259236 0.14256731 0.15421415 0.15739512 0.15716969\n",
            " 0.15453976 0.15180964 0.14765185 0.16713838 0.15221277 0.15287119\n",
            " 0.15264297 0.15191682 0.15100515 0.15006962 0.14917527 0.14834057\n",
            " 0.14756414 0.14683618 0.14614321 0.14547074 0.14480495 0.14413419\n",
            " 0.14344984 0.14274672 0.14202316 0.14128059]\n",
            "17 day : Output [[0.14052287]]\n",
            "18 day : input [0.05983719 0.06675016 0.06654978 0.06993112 0.07288666 0.07105823\n",
            " 0.07120852 0.07772073 0.08583594 0.08939261 0.08771446 0.09297433\n",
            " 0.09790858 0.09056982 0.09380088 0.09665623 0.11015654 0.11937383\n",
            " 0.11243582 0.11974953 0.11291171 0.11028178 0.11063244 0.11774577\n",
            " 0.11611772 0.12145272 0.11739512 0.11448967 0.10429555 0.10537257\n",
            " 0.10659987 0.09986224 0.10289292 0.10161553 0.09635567 0.09785848\n",
            " 0.11068253 0.11769568 0.11211021 0.11529117 0.10958046 0.10434565\n",
            " 0.1092799  0.11458986 0.11559173 0.12275517 0.12062617 0.12663745\n",
            " 0.13134627 0.12771446 0.13046963 0.13377583 0.12884158 0.12726362\n",
            " 0.13507827 0.13906074 0.14542267 0.14860363 0.1472511  0.14256731\n",
            " 0.14482154 0.13823419 0.13515341 0.13340013 0.14707577 0.14619912\n",
            " 0.14624922 0.14935504 0.15226049 0.14980589 0.14572323 0.14649969\n",
            " 0.14259236 0.14256731 0.15421415 0.15739512 0.15716969 0.15453976\n",
            " 0.15180964 0.14765185 0.16713838 0.15221277 0.15287119 0.15264297\n",
            " 0.15191682 0.15100515 0.15006962 0.14917527 0.14834057 0.14756414\n",
            " 0.14683618 0.14614321 0.14547074 0.14480495 0.14413419 0.14344984\n",
            " 0.14274672 0.14202316 0.14128059 0.14052287]\n",
            "18 day : Output [[0.13975559]]\n",
            "19 day : input [0.06675016 0.06654978 0.06993112 0.07288666 0.07105823 0.07120852\n",
            " 0.07772073 0.08583594 0.08939261 0.08771446 0.09297433 0.09790858\n",
            " 0.09056982 0.09380088 0.09665623 0.11015654 0.11937383 0.11243582\n",
            " 0.11974953 0.11291171 0.11028178 0.11063244 0.11774577 0.11611772\n",
            " 0.12145272 0.11739512 0.11448967 0.10429555 0.10537257 0.10659987\n",
            " 0.09986224 0.10289292 0.10161553 0.09635567 0.09785848 0.11068253\n",
            " 0.11769568 0.11211021 0.11529117 0.10958046 0.10434565 0.1092799\n",
            " 0.11458986 0.11559173 0.12275517 0.12062617 0.12663745 0.13134627\n",
            " 0.12771446 0.13046963 0.13377583 0.12884158 0.12726362 0.13507827\n",
            " 0.13906074 0.14542267 0.14860363 0.1472511  0.14256731 0.14482154\n",
            " 0.13823419 0.13515341 0.13340013 0.14707577 0.14619912 0.14624922\n",
            " 0.14935504 0.15226049 0.14980589 0.14572323 0.14649969 0.14259236\n",
            " 0.14256731 0.15421415 0.15739512 0.15716969 0.15453976 0.15180964\n",
            " 0.14765185 0.16713838 0.15221277 0.15287119 0.15264297 0.15191682\n",
            " 0.15100515 0.15006962 0.14917527 0.14834057 0.14756414 0.14683618\n",
            " 0.14614321 0.14547074 0.14480495 0.14413419 0.14344984 0.14274672\n",
            " 0.14202316 0.14128059 0.14052287 0.13975559]\n",
            "19 day : Output [[0.1389852]]\n",
            "20 day : input [0.06654978 0.06993112 0.07288666 0.07105823 0.07120852 0.07772073\n",
            " 0.08583594 0.08939261 0.08771446 0.09297433 0.09790858 0.09056982\n",
            " 0.09380088 0.09665623 0.11015654 0.11937383 0.11243582 0.11974953\n",
            " 0.11291171 0.11028178 0.11063244 0.11774577 0.11611772 0.12145272\n",
            " 0.11739512 0.11448967 0.10429555 0.10537257 0.10659987 0.09986224\n",
            " 0.10289292 0.10161553 0.09635567 0.09785848 0.11068253 0.11769568\n",
            " 0.11211021 0.11529117 0.10958046 0.10434565 0.1092799  0.11458986\n",
            " 0.11559173 0.12275517 0.12062617 0.12663745 0.13134627 0.12771446\n",
            " 0.13046963 0.13377583 0.12884158 0.12726362 0.13507827 0.13906074\n",
            " 0.14542267 0.14860363 0.1472511  0.14256731 0.14482154 0.13823419\n",
            " 0.13515341 0.13340013 0.14707577 0.14619912 0.14624922 0.14935504\n",
            " 0.15226049 0.14980589 0.14572323 0.14649969 0.14259236 0.14256731\n",
            " 0.15421415 0.15739512 0.15716969 0.15453976 0.15180964 0.14765185\n",
            " 0.16713838 0.15221277 0.15287119 0.15264297 0.15191682 0.15100515\n",
            " 0.15006962 0.14917527 0.14834057 0.14756414 0.14683618 0.14614321\n",
            " 0.14547074 0.14480495 0.14413419 0.14344984 0.14274672 0.14202316\n",
            " 0.14128059 0.14052287 0.13975559 0.1389852 ]\n",
            "20 day : Output [[0.13821827]]\n",
            "21 day : input [0.06993112 0.07288666 0.07105823 0.07120852 0.07772073 0.08583594\n",
            " 0.08939261 0.08771446 0.09297433 0.09790858 0.09056982 0.09380088\n",
            " 0.09665623 0.11015654 0.11937383 0.11243582 0.11974953 0.11291171\n",
            " 0.11028178 0.11063244 0.11774577 0.11611772 0.12145272 0.11739512\n",
            " 0.11448967 0.10429555 0.10537257 0.10659987 0.09986224 0.10289292\n",
            " 0.10161553 0.09635567 0.09785848 0.11068253 0.11769568 0.11211021\n",
            " 0.11529117 0.10958046 0.10434565 0.1092799  0.11458986 0.11559173\n",
            " 0.12275517 0.12062617 0.12663745 0.13134627 0.12771446 0.13046963\n",
            " 0.13377583 0.12884158 0.12726362 0.13507827 0.13906074 0.14542267\n",
            " 0.14860363 0.1472511  0.14256731 0.14482154 0.13823419 0.13515341\n",
            " 0.13340013 0.14707577 0.14619912 0.14624922 0.14935504 0.15226049\n",
            " 0.14980589 0.14572323 0.14649969 0.14259236 0.14256731 0.15421415\n",
            " 0.15739512 0.15716969 0.15453976 0.15180964 0.14765185 0.16713838\n",
            " 0.15221277 0.15287119 0.15264297 0.15191682 0.15100515 0.15006962\n",
            " 0.14917527 0.14834057 0.14756414 0.14683618 0.14614321 0.14547074\n",
            " 0.14480495 0.14413419 0.14344984 0.14274672 0.14202316 0.14128059\n",
            " 0.14052287 0.13975559 0.1389852  0.13821827]\n",
            "21 day : Output [[0.1374609]]\n",
            "22 day : input [0.07288666 0.07105823 0.07120852 0.07772073 0.08583594 0.08939261\n",
            " 0.08771446 0.09297433 0.09790858 0.09056982 0.09380088 0.09665623\n",
            " 0.11015654 0.11937383 0.11243582 0.11974953 0.11291171 0.11028178\n",
            " 0.11063244 0.11774577 0.11611772 0.12145272 0.11739512 0.11448967\n",
            " 0.10429555 0.10537257 0.10659987 0.09986224 0.10289292 0.10161553\n",
            " 0.09635567 0.09785848 0.11068253 0.11769568 0.11211021 0.11529117\n",
            " 0.10958046 0.10434565 0.1092799  0.11458986 0.11559173 0.12275517\n",
            " 0.12062617 0.12663745 0.13134627 0.12771446 0.13046963 0.13377583\n",
            " 0.12884158 0.12726362 0.13507827 0.13906074 0.14542267 0.14860363\n",
            " 0.1472511  0.14256731 0.14482154 0.13823419 0.13515341 0.13340013\n",
            " 0.14707577 0.14619912 0.14624922 0.14935504 0.15226049 0.14980589\n",
            " 0.14572323 0.14649969 0.14259236 0.14256731 0.15421415 0.15739512\n",
            " 0.15716969 0.15453976 0.15180964 0.14765185 0.16713838 0.15221277\n",
            " 0.15287119 0.15264297 0.15191682 0.15100515 0.15006962 0.14917527\n",
            " 0.14834057 0.14756414 0.14683618 0.14614321 0.14547074 0.14480495\n",
            " 0.14413419 0.14344984 0.14274672 0.14202316 0.14128059 0.14052287\n",
            " 0.13975559 0.1389852  0.13821827 0.1374609 ]\n",
            "22 day : Output [[0.1367182]]\n",
            "23 day : input [0.07105823 0.07120852 0.07772073 0.08583594 0.08939261 0.08771446\n",
            " 0.09297433 0.09790858 0.09056982 0.09380088 0.09665623 0.11015654\n",
            " 0.11937383 0.11243582 0.11974953 0.11291171 0.11028178 0.11063244\n",
            " 0.11774577 0.11611772 0.12145272 0.11739512 0.11448967 0.10429555\n",
            " 0.10537257 0.10659987 0.09986224 0.10289292 0.10161553 0.09635567\n",
            " 0.09785848 0.11068253 0.11769568 0.11211021 0.11529117 0.10958046\n",
            " 0.10434565 0.1092799  0.11458986 0.11559173 0.12275517 0.12062617\n",
            " 0.12663745 0.13134627 0.12771446 0.13046963 0.13377583 0.12884158\n",
            " 0.12726362 0.13507827 0.13906074 0.14542267 0.14860363 0.1472511\n",
            " 0.14256731 0.14482154 0.13823419 0.13515341 0.13340013 0.14707577\n",
            " 0.14619912 0.14624922 0.14935504 0.15226049 0.14980589 0.14572323\n",
            " 0.14649969 0.14259236 0.14256731 0.15421415 0.15739512 0.15716969\n",
            " 0.15453976 0.15180964 0.14765185 0.16713838 0.15221277 0.15287119\n",
            " 0.15264297 0.15191682 0.15100515 0.15006962 0.14917527 0.14834057\n",
            " 0.14756414 0.14683618 0.14614321 0.14547074 0.14480495 0.14413419\n",
            " 0.14344984 0.14274672 0.14202316 0.14128059 0.14052287 0.13975559\n",
            " 0.1389852  0.13821827 0.1374609  0.1367182 ]\n",
            "23 day : Output [[0.13599397]]\n",
            "24 day : input [0.07120852 0.07772073 0.08583594 0.08939261 0.08771446 0.09297433\n",
            " 0.09790858 0.09056982 0.09380088 0.09665623 0.11015654 0.11937383\n",
            " 0.11243582 0.11974953 0.11291171 0.11028178 0.11063244 0.11774577\n",
            " 0.11611772 0.12145272 0.11739512 0.11448967 0.10429555 0.10537257\n",
            " 0.10659987 0.09986224 0.10289292 0.10161553 0.09635567 0.09785848\n",
            " 0.11068253 0.11769568 0.11211021 0.11529117 0.10958046 0.10434565\n",
            " 0.1092799  0.11458986 0.11559173 0.12275517 0.12062617 0.12663745\n",
            " 0.13134627 0.12771446 0.13046963 0.13377583 0.12884158 0.12726362\n",
            " 0.13507827 0.13906074 0.14542267 0.14860363 0.1472511  0.14256731\n",
            " 0.14482154 0.13823419 0.13515341 0.13340013 0.14707577 0.14619912\n",
            " 0.14624922 0.14935504 0.15226049 0.14980589 0.14572323 0.14649969\n",
            " 0.14259236 0.14256731 0.15421415 0.15739512 0.15716969 0.15453976\n",
            " 0.15180964 0.14765185 0.16713838 0.15221277 0.15287119 0.15264297\n",
            " 0.15191682 0.15100515 0.15006962 0.14917527 0.14834057 0.14756414\n",
            " 0.14683618 0.14614321 0.14547074 0.14480495 0.14413419 0.14344984\n",
            " 0.14274672 0.14202316 0.14128059 0.14052287 0.13975559 0.1389852\n",
            " 0.13821827 0.1374609  0.1367182  0.13599397]\n",
            "24 day : Output [[0.13529065]]\n",
            "25 day : input [0.07772073 0.08583594 0.08939261 0.08771446 0.09297433 0.09790858\n",
            " 0.09056982 0.09380088 0.09665623 0.11015654 0.11937383 0.11243582\n",
            " 0.11974953 0.11291171 0.11028178 0.11063244 0.11774577 0.11611772\n",
            " 0.12145272 0.11739512 0.11448967 0.10429555 0.10537257 0.10659987\n",
            " 0.09986224 0.10289292 0.10161553 0.09635567 0.09785848 0.11068253\n",
            " 0.11769568 0.11211021 0.11529117 0.10958046 0.10434565 0.1092799\n",
            " 0.11458986 0.11559173 0.12275517 0.12062617 0.12663745 0.13134627\n",
            " 0.12771446 0.13046963 0.13377583 0.12884158 0.12726362 0.13507827\n",
            " 0.13906074 0.14542267 0.14860363 0.1472511  0.14256731 0.14482154\n",
            " 0.13823419 0.13515341 0.13340013 0.14707577 0.14619912 0.14624922\n",
            " 0.14935504 0.15226049 0.14980589 0.14572323 0.14649969 0.14259236\n",
            " 0.14256731 0.15421415 0.15739512 0.15716969 0.15453976 0.15180964\n",
            " 0.14765185 0.16713838 0.15221277 0.15287119 0.15264297 0.15191682\n",
            " 0.15100515 0.15006962 0.14917527 0.14834057 0.14756414 0.14683618\n",
            " 0.14614321 0.14547074 0.14480495 0.14413419 0.14344984 0.14274672\n",
            " 0.14202316 0.14128059 0.14052287 0.13975559 0.1389852  0.13821827\n",
            " 0.1374609  0.1367182  0.13599397 0.13529065]\n",
            "25 day : Output [[0.13460928]]\n",
            "26 day : input [0.08583594 0.08939261 0.08771446 0.09297433 0.09790858 0.09056982\n",
            " 0.09380088 0.09665623 0.11015654 0.11937383 0.11243582 0.11974953\n",
            " 0.11291171 0.11028178 0.11063244 0.11774577 0.11611772 0.12145272\n",
            " 0.11739512 0.11448967 0.10429555 0.10537257 0.10659987 0.09986224\n",
            " 0.10289292 0.10161553 0.09635567 0.09785848 0.11068253 0.11769568\n",
            " 0.11211021 0.11529117 0.10958046 0.10434565 0.1092799  0.11458986\n",
            " 0.11559173 0.12275517 0.12062617 0.12663745 0.13134627 0.12771446\n",
            " 0.13046963 0.13377583 0.12884158 0.12726362 0.13507827 0.13906074\n",
            " 0.14542267 0.14860363 0.1472511  0.14256731 0.14482154 0.13823419\n",
            " 0.13515341 0.13340013 0.14707577 0.14619912 0.14624922 0.14935504\n",
            " 0.15226049 0.14980589 0.14572323 0.14649969 0.14259236 0.14256731\n",
            " 0.15421415 0.15739512 0.15716969 0.15453976 0.15180964 0.14765185\n",
            " 0.16713838 0.15221277 0.15287119 0.15264297 0.15191682 0.15100515\n",
            " 0.15006962 0.14917527 0.14834057 0.14756414 0.14683618 0.14614321\n",
            " 0.14547074 0.14480495 0.14413419 0.14344984 0.14274672 0.14202316\n",
            " 0.14128059 0.14052287 0.13975559 0.1389852  0.13821827 0.1374609\n",
            " 0.1367182  0.13599397 0.13529065 0.13460928]\n",
            "26 day : Output [[0.13394967]]\n",
            "27 day : input [0.08939261 0.08771446 0.09297433 0.09790858 0.09056982 0.09380088\n",
            " 0.09665623 0.11015654 0.11937383 0.11243582 0.11974953 0.11291171\n",
            " 0.11028178 0.11063244 0.11774577 0.11611772 0.12145272 0.11739512\n",
            " 0.11448967 0.10429555 0.10537257 0.10659987 0.09986224 0.10289292\n",
            " 0.10161553 0.09635567 0.09785848 0.11068253 0.11769568 0.11211021\n",
            " 0.11529117 0.10958046 0.10434565 0.1092799  0.11458986 0.11559173\n",
            " 0.12275517 0.12062617 0.12663745 0.13134627 0.12771446 0.13046963\n",
            " 0.13377583 0.12884158 0.12726362 0.13507827 0.13906074 0.14542267\n",
            " 0.14860363 0.1472511  0.14256731 0.14482154 0.13823419 0.13515341\n",
            " 0.13340013 0.14707577 0.14619912 0.14624922 0.14935504 0.15226049\n",
            " 0.14980589 0.14572323 0.14649969 0.14259236 0.14256731 0.15421415\n",
            " 0.15739512 0.15716969 0.15453976 0.15180964 0.14765185 0.16713838\n",
            " 0.15221277 0.15287119 0.15264297 0.15191682 0.15100515 0.15006962\n",
            " 0.14917527 0.14834057 0.14756414 0.14683618 0.14614321 0.14547074\n",
            " 0.14480495 0.14413419 0.14344984 0.14274672 0.14202316 0.14128059\n",
            " 0.14052287 0.13975559 0.1389852  0.13821827 0.1374609  0.1367182\n",
            " 0.13599397 0.13529065 0.13460928 0.13394967]\n",
            "27 day : Output [[0.13331066]]\n",
            "28 day : input [0.08771446 0.09297433 0.09790858 0.09056982 0.09380088 0.09665623\n",
            " 0.11015654 0.11937383 0.11243582 0.11974953 0.11291171 0.11028178\n",
            " 0.11063244 0.11774577 0.11611772 0.12145272 0.11739512 0.11448967\n",
            " 0.10429555 0.10537257 0.10659987 0.09986224 0.10289292 0.10161553\n",
            " 0.09635567 0.09785848 0.11068253 0.11769568 0.11211021 0.11529117\n",
            " 0.10958046 0.10434565 0.1092799  0.11458986 0.11559173 0.12275517\n",
            " 0.12062617 0.12663745 0.13134627 0.12771446 0.13046963 0.13377583\n",
            " 0.12884158 0.12726362 0.13507827 0.13906074 0.14542267 0.14860363\n",
            " 0.1472511  0.14256731 0.14482154 0.13823419 0.13515341 0.13340013\n",
            " 0.14707577 0.14619912 0.14624922 0.14935504 0.15226049 0.14980589\n",
            " 0.14572323 0.14649969 0.14259236 0.14256731 0.15421415 0.15739512\n",
            " 0.15716969 0.15453976 0.15180964 0.14765185 0.16713838 0.15221277\n",
            " 0.15287119 0.15264297 0.15191682 0.15100515 0.15006962 0.14917527\n",
            " 0.14834057 0.14756414 0.14683618 0.14614321 0.14547074 0.14480495\n",
            " 0.14413419 0.14344984 0.14274672 0.14202316 0.14128059 0.14052287\n",
            " 0.13975559 0.1389852  0.13821827 0.1374609  0.1367182  0.13599397\n",
            " 0.13529065 0.13460928 0.13394967 0.13331066]\n",
            "28 day : Output [[0.1326904]]\n",
            "29 day : input [0.09297433 0.09790858 0.09056982 0.09380088 0.09665623 0.11015654\n",
            " 0.11937383 0.11243582 0.11974953 0.11291171 0.11028178 0.11063244\n",
            " 0.11774577 0.11611772 0.12145272 0.11739512 0.11448967 0.10429555\n",
            " 0.10537257 0.10659987 0.09986224 0.10289292 0.10161553 0.09635567\n",
            " 0.09785848 0.11068253 0.11769568 0.11211021 0.11529117 0.10958046\n",
            " 0.10434565 0.1092799  0.11458986 0.11559173 0.12275517 0.12062617\n",
            " 0.12663745 0.13134627 0.12771446 0.13046963 0.13377583 0.12884158\n",
            " 0.12726362 0.13507827 0.13906074 0.14542267 0.14860363 0.1472511\n",
            " 0.14256731 0.14482154 0.13823419 0.13515341 0.13340013 0.14707577\n",
            " 0.14619912 0.14624922 0.14935504 0.15226049 0.14980589 0.14572323\n",
            " 0.14649969 0.14259236 0.14256731 0.15421415 0.15739512 0.15716969\n",
            " 0.15453976 0.15180964 0.14765185 0.16713838 0.15221277 0.15287119\n",
            " 0.15264297 0.15191682 0.15100515 0.15006962 0.14917527 0.14834057\n",
            " 0.14756414 0.14683618 0.14614321 0.14547074 0.14480495 0.14413419\n",
            " 0.14344984 0.14274672 0.14202316 0.14128059 0.14052287 0.13975559\n",
            " 0.1389852  0.13821827 0.1374609  0.1367182  0.13599397 0.13529065\n",
            " 0.13460928 0.13394967 0.13331066 0.1326904 ]\n",
            "29 day : Output [[0.13208659]]\n",
            "[[0.15287119150161743], [0.15264296531677246], [0.15191681683063507], [0.15100514888763428], [0.15006962418556213], [0.1491752713918686], [0.14834056794643402], [0.1475641429424286], [0.14683617651462555], [0.14614321291446686], [0.1454707384109497], [0.1448049545288086], [0.14413419365882874], [0.1434498429298401], [0.1427467167377472], [0.14202316105365753], [0.14128059148788452], [0.14052286744117737], [0.13975559175014496], [0.13898520171642303], [0.13821826875209808], [0.13746090233325958], [0.13671819865703583], [0.13599397242069244], [0.13529065251350403], [0.13460928201675415], [0.1339496672153473], [0.13331066071987152], [0.1326903998851776], [0.1320865899324417]]\n"
          ]
        }
      ],
      "source": [
        "## Creating a Logic for the forecasting of the stocks for the n days into future: 30 days in our case:\n",
        "\n",
        "\n",
        "\n",
        "from numpy import array \n",
        "\n",
        "lst_out = []\n",
        "time_steps = 100\n",
        "i = 0\n",
        "\n",
        "while(i<30):\n",
        "\n",
        "\n",
        "  if len(temp_input)>100:\n",
        "    x_input = np.array(temp_input[1:])\n",
        "    print(f\"{i} day : input {x_input}\")\n",
        "    x_input = x_input.reshape(1, -1)\n",
        "    x_input = x_input.reshape((1, time_steps, 1))\n",
        "\n",
        "    y_hat = model.predict(x_input, verbose = 0)\n",
        "    print(f\"{i} day : Output {y_hat}\")\n",
        "    temp_input.extend(y_hat[0].tolist())\n",
        "    temp_input = temp_input[1:]\n",
        "    lst_out.extend(y_hat.tolist())\n",
        "    i+=1\n",
        "\n",
        "\n",
        "  else:\n",
        "    x_input = x_input.reshape((1, time_steps, 1))\n",
        "    y_hat = model.predict(x_input, verbose = 0)\n",
        "    temp_input.extend(y_hat[0].tolist())\n",
        "    lst_out.extend(y_hat.tolist())\n",
        "    i+=1\n",
        "\n",
        "\n",
        "print(lst_out)\n"
      ]
    },
    {
      "cell_type": "markdown",
      "metadata": {
        "id": "NwpkITZk89s7"
      },
      "source": [
        "- Plotting the new predicted data:\n",
        "\n"
      ]
    },
    {
      "cell_type": "code",
      "execution_count": 44,
      "metadata": {
        "id": "OjpyhjTw33xE"
      },
      "outputs": [],
      "source": [
        "day_new = np.arange(1, 101)\n",
        "day_predict = np.arange(101, 131)\n"
      ]
    },
    {
      "cell_type": "code",
      "execution_count": 45,
      "metadata": {
        "colab": {
          "base_uri": "https://localhost:8080/"
        },
        "id": "1aAusXQK9xM0",
        "outputId": "70bbaed3-d54a-4cc2-a0fe-006625e22dc5"
      },
      "outputs": [
        {
          "data": {
            "text/plain": [
              "1258"
            ]
          },
          "execution_count": 45,
          "metadata": {},
          "output_type": "execute_result"
        }
      ],
      "source": [
        "len(df)"
      ]
    },
    {
      "cell_type": "code",
      "execution_count": 46,
      "metadata": {
        "colab": {
          "base_uri": "https://localhost:8080/",
          "height": 430
        },
        "id": "tq1_UclV9zzM",
        "outputId": "27466676-6e0d-46b3-a02b-18f8d2991bd0"
      },
      "outputs": [
        {
          "data": {
            "image/png": "[encoded data removed]",
            "text/plain": [
              "<Figure size 640x480 with 1 Axes>"
            ]
          },
          "metadata": {},
          "output_type": "display_data"
        }
      ],
      "source": [
        "#Plotting the new data:\n",
        "\n",
        "plt.plot(day_new, ms.inverse_transform(df[1158: ]))\n",
        "plt.plot(day_predict, ms.inverse_transform(lst_out)) \n",
        "plt.savefig(\"30_days_pred.jpg\")\n",
        "plt.show()"
      ]
    },
    {
      "cell_type": "code",
      "execution_count": 48,
      "metadata": {
        "colab": {
          "base_uri": "https://localhost:8080/",
          "height": 449
        },
        "id": "aVZL5KA__gBR",
        "outputId": "5e105d1b-a1af-45bd-e05e-278a365cbfba"
      },
      "outputs": [
        {
          "data": {
            "text/plain": [
              "[<matplotlib.lines.Line2D at 0x7f8b212350f0>]"
            ]
          },
          "execution_count": 48,
          "metadata": {},
          "output_type": "execute_result"
        },
        {
          "data": {
            "image/png": "[encoded data removed]",
            "text/plain": [
              "<Figure size 640x480 with 1 Axes>"
            ]
          },
          "metadata": {},
          "output_type": "display_data"
        }
      ],
      "source": [
        "df2 = df.tolist()\n",
        "df2.extend(lst_out)\n",
        "plt.savefig(\"Full chart.jpg\")\n",
        "plt.plot(df2[1200:])"
      ]
    },
    {
      "cell_type": "code",
      "execution_count": null,
      "metadata": {
        "id": "hXAbl8Od_wk_"
      },
      "outputs": [],
      "source": []
    }
  ],
  "metadata": {
    "accelerator": "GPU",
    "colab": {
      "provenance": []
    },
    "gpuClass": "standard",
    "kernelspec": {
      "display_name": "Python 3",
      "name": "python3"
    },
    "language_info": {
      "name": "python"
    }
  },
  "nbformat": 4,
  "nbformat_minor": 0
}
